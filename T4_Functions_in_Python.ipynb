{
 "cells": [
  {
   "cell_type": "markdown",
   "id": "422647db-e44e-4f5e-9e53-52fec121ff49",
   "metadata": {
    "slideshow": {
     "slide_type": "slide"
    }
   },
   "source": [
    "# Topic 4: Functions in Python\n",
    "\n",
    "## 4.1 Introduction\n",
    "In previous weeks, we worked with Python basics, operators, and control flow.  \n",
    "Now we move to **functions**, which allow us to:\n",
    "- Break code into reusable pieces\n",
    "- Make code modular and easier to debug\n",
    "- Model chemical engineering calculations more clearly\n"
   ]
  },
  {
   "cell_type": "markdown",
   "id": "f9229fae-2e06-49ce-8954-b87a6bd8f0a6",
   "metadata": {
    "slideshow": {
     "slide_type": "slide"
    }
   },
   "source": [
    "## 4.2 Defining Functions\n",
    "A function is defined using `def` keyword.\n",
    "\n",
    "**Syntax:**\n",
    "```python\n",
    "def function_name(parameters):\n",
    "    \"\"\"docstring explaining function\"\"\"\n",
    "    # code block\n",
    "    return result\n"
   ]
  },
  {
   "cell_type": "code",
   "execution_count": 3,
   "id": "7539b132-0210-4c99-be22-cf73d596486b",
   "metadata": {
    "slideshow": {
     "slide_type": "fragment"
    }
   },
   "outputs": [
    {
     "name": "stdout",
     "output_type": "stream",
     "text": [
      "25\n"
     ]
    }
   ],
   "source": [
    "# Example\n",
    "def square(x):\n",
    "    return x**2\n",
    "\n",
    "print(square(5))"
   ]
  },
  {
   "cell_type": "markdown",
   "id": "2cffd138-9f12-4557-a50c-7c2995d63def",
   "metadata": {
    "slideshow": {
     "slide_type": "slide"
    }
   },
   "source": [
    "**Chemical Engineering Example:**  \n",
    "Suppose we want to calculate the Reynolds number:\n",
    "\n",
    "$$\n",
    "Re = \\frac{\\rho u D}{\\mu}\n",
    "$$\n"
   ]
  },
  {
   "cell_type": "code",
   "execution_count": 4,
   "id": "b7e40439-b83a-4da0-91bf-9457e8480f19",
   "metadata": {
    "slideshow": {
     "slide_type": "fragment"
    }
   },
   "outputs": [
    {
     "name": "stdout",
     "output_type": "stream",
     "text": [
      "Reynolds number = 100000.0\n"
     ]
    }
   ],
   "source": [
    "def reynolds_number(rho, u, D, mu):\n",
    "    return rho * u * D / mu\n",
    "\n",
    "# Example: water in a pipe\n",
    "Re = reynolds_number(rho=1000, u=2, D=0.05, mu=0.001)\n",
    "print(\"Reynolds number =\", Re)"
   ]
  },
  {
   "cell_type": "markdown",
   "id": "7736c505-51fa-4308-a3a8-b90e389b7f3f",
   "metadata": {
    "slideshow": {
     "slide_type": "slide"
    }
   },
   "source": [
    "## 4.3 Functions with Multiple Parameters\n",
    "Functions can take multiple inputs."
   ]
  },
  {
   "cell_type": "code",
   "execution_count": 5,
   "id": "00ef87be-25a3-4360-bdea-be0b1d2a31be",
   "metadata": {
    "slideshow": {
     "slide_type": "fragment"
    }
   },
   "outputs": [
    {
     "name": "stdout",
     "output_type": "stream",
     "text": [
      "24\n"
     ]
    }
   ],
   "source": [
    "# Generic Example\n",
    "def area_rectangle(length, width):\n",
    "    return length * width\n",
    "\n",
    "print(area_rectangle(4, 6))"
   ]
  },
  {
   "cell_type": "code",
   "execution_count": 3,
   "id": "81d373bc",
   "metadata": {
    "slideshow": {
     "slide_type": "subslide"
    }
   },
   "outputs": [
    {
     "name": "stdout",
     "output_type": "stream",
     "text": [
      "36\n",
      "45.6\n",
      "yellow\n"
     ]
    }
   ],
   "source": [
    "def maximum(value1, value2, value3):\n",
    "    \"\"\"Return the maximum of three values.\"\"\"\n",
    "    max_value = value1\n",
    "    if value2 > max_value:\n",
    "        max_value = value2\n",
    "    if value3 > max_value:\n",
    "        max_value = value3\n",
    "    return max_value\n",
    "\n",
    "# Testing with integers\n",
    "print(maximum(12, 27, 36))\n",
    "\n",
    "# Testing with floating-point numbers\n",
    "print(maximum(12.3, 45.6, 9.7)) \n",
    "\n",
    "# Testing with strings \n",
    "print(maximum(\"yellow\", \"red\", \"orange\")) \n"
   ]
  },
  {
   "cell_type": "markdown",
   "id": "761aa9ca",
   "metadata": {
    "slideshow": {
     "slide_type": "subslide"
    }
   },
   "source": [
    "## Python’s Built-In `max` and `min` Functions\n",
    "\n",
    "Python provides built-in functions to quickly determine the largest (`max`) and smallest (`min`) among two or more values.\n",
    "\n",
    "### Example 1: Strings\n",
    "Python compares strings **lexicographically** (like dictionary order).\n",
    "```python\n",
    "print(max(\"yellow\", \"red\", \"orange\", \"blue\", \"green\"))\n",
    "# Output: yellow\n"
   ]
  },
  {
   "cell_type": "code",
   "execution_count": 5,
   "id": "37b4723b",
   "metadata": {
    "slideshow": {
     "slide_type": "fragment"
    }
   },
   "outputs": [
    {
     "name": "stdout",
     "output_type": "stream",
     "text": [
      "9\n"
     ]
    }
   ],
   "source": [
    "print(min(15, 9, 27, 14))"
   ]
  },
  {
   "cell_type": "markdown",
   "id": "44d65598-f2aa-40d1-872e-c6b98ffc2a43",
   "metadata": {
    "slideshow": {
     "slide_type": "subslide"
    }
   },
   "source": [
    "**Chemical Engineering Example:**  \n",
    "Heat transfer rate:\n",
    "$$\n",
    "Q = U A \\Delta T\n",
    "$$\n"
   ]
  },
  {
   "cell_type": "code",
   "execution_count": 6,
   "id": "f55e6525-f7d3-4338-ad5b-5f6917b1ad54",
   "metadata": {
    "slideshow": {
     "slide_type": "fragment"
    }
   },
   "outputs": [
    {
     "name": "stdout",
     "output_type": "stream",
     "text": [
      "Heat Transfer Rate = 60000 W\n"
     ]
    }
   ],
   "source": [
    "def heat_transfer(U, A, delta_T):\n",
    "    return U * A * delta_T\n",
    "\n",
    "Q = heat_transfer(200, 10, 30)\n",
    "print(\"Heat Transfer Rate =\", Q, \"W\")"
   ]
  },
  {
   "cell_type": "markdown",
   "id": "23a46ac2-5bab-4af0-be75-c34961bc4877",
   "metadata": {
    "slideshow": {
     "slide_type": "slide"
    }
   },
   "source": [
    "## 4.4 Random-Number Generation\n",
    "Useful in simulations, Monte Carlo methods, uncertainty analysis."
   ]
  },
  {
   "cell_type": "code",
   "execution_count": 7,
   "id": "785a65a8-1631-4560-a588-63ec3d0a3a96",
   "metadata": {
    "slideshow": {
     "slide_type": "fragment"
    }
   },
   "outputs": [
    {
     "name": "stdout",
     "output_type": "stream",
     "text": [
      "Random number between 0 and 1: 0.09274381787039687\n"
     ]
    }
   ],
   "source": [
    "import random\n",
    "\n",
    "# Example use\n",
    "print(\"Random number between 0 and 1:\", random.random())\n"
   ]
  },
  {
   "cell_type": "markdown",
   "id": "79cdfbd5",
   "metadata": {
    "slideshow": {
     "slide_type": "subslide"
    }
   },
   "source": [
    "## Rolling a Six-Sided Die 6,000,000 Times\n",
    "\n",
    "The following script simulates rolling a fair six-sided die 6,000,000 times.  \n",
    "Each face (1–6) should occur approximately 1,000,000 times, showing that each outcome is equally likely.  \n",
    "\n",
    "We use Python’s `random.randrange(1, 7)` to generate random integers from 1 to 6.  \n",
    "Counters track how many times each face appears.  \n",
    "\n",
    "Underscores in numeric literals (like `6_000_000`) make large numbers more readable.  \n",
    "\n",
    "---\n"
   ]
  },
  {
   "cell_type": "code",
   "execution_count": 8,
   "id": "b477b3c8",
   "metadata": {
    "slideshow": {
     "slide_type": "subslide"
    }
   },
   "outputs": [
    {
     "name": "stdout",
     "output_type": "stream",
     "text": [
      "Face    Frequency\n",
      "   1      1000346\n",
      "   2       999644\n",
      "   3      1001714\n",
      "   4      1000094\n",
      "   5       999374\n",
      "   6       998828\n"
     ]
    }
   ],
   "source": [
    "# fig04_01.py\n",
    "\"\"\"Roll a six-sided die 6,000,000 times.\"\"\"\n",
    "import random  # Import random module for generating random numbers\n",
    "\n",
    "# Initialize frequency counters for each die face (1 through 6)\n",
    "frequency1 = 0\n",
    "frequency2 = 0\n",
    "frequency3 = 0\n",
    "frequency4 = 0\n",
    "frequency5 = 0\n",
    "frequency6 = 0\n",
    "\n",
    "# Perform 6,000,000 die rolls\n",
    "for roll in range(6_000_000):  # underscore makes the number more readable\n",
    "    face = random.randrange(1, 7)  # random integer from 1 to 6\n",
    "\n",
    "    # Increment the appropriate counter based on the die face\n",
    "    if face == 1:\n",
    "        frequency1 += 1\n",
    "    elif face == 2:\n",
    "        frequency2 += 1\n",
    "    elif face == 3:\n",
    "        frequency3 += 1\n",
    "    elif face == 4:\n",
    "        frequency4 += 1\n",
    "    elif face == 5:\n",
    "        frequency5 += 1\n",
    "    elif face == 6:\n",
    "        frequency6 += 1\n",
    "\n",
    "# Display the results in a formatted table\n",
    "print(f'Face{\"Frequency\":>13}')  # Header row\n",
    "print(f'{1:>4}{frequency1:>13}') # Face 1 count\n",
    "print(f'{2:>4}{frequency2:>13}') # Face 2 count\n",
    "print(f'{3:>4}{frequency3:>13}') # Face 3 count\n",
    "print(f'{4:>4}{frequency4:>13}') # Face 4 count\n",
    "print(f'{5:>4}{frequency5:>13}') # Face 5 count\n",
    "print(f'{6:>4}{frequency6:>13}') # Face 6 count\n"
   ]
  },
  {
   "cell_type": "markdown",
   "id": "0b5937bf",
   "metadata": {
    "slideshow": {
     "slide_type": "subslide"
    }
   },
   "source": [
    "## Seeding the Random-Number Generator for Reproducibility\n",
    "\n",
    "Python’s `random` module generates **pseudorandom numbers**, which means the numbers are not truly random but derived from a deterministic sequence based on a **seed**.\n",
    "\n",
    "- By default, Python chooses a different seed value each time you run a program (often based on the system clock).  \n",
    "- This ensures results differ between runs.  \n",
    "- But if you want **reproducible results** (e.g., for debugging), you can explicitly set the seed with `random.seed(value)`.\n",
    "\n",
    "When the same seed is used, the pseudorandom sequence is identical across runs.\n",
    "\n",
    "---\n"
   ]
  },
  {
   "cell_type": "code",
   "execution_count": 13,
   "id": "042d69d2",
   "metadata": {
    "slideshow": {
     "slide_type": "subslide"
    }
   },
   "outputs": [
    {
     "name": "stdout",
     "output_type": "stream",
     "text": [
      "1 2 2 3 6 2 4 1 6 1 \n",
      "---\n",
      "1 3 5 3 1 5 6 4 3 5 \n",
      "---\n",
      "1 2 2 3 6 2 4 1 6 1 "
     ]
    }
   ],
   "source": [
    "import random\n",
    "\n",
    "# Set the seed value to 32\n",
    "random.seed(32)\n",
    "\n",
    "# Generate 10 die rolls (sequence is reproducible)\n",
    "for roll in range(10):\n",
    "    print(random.randrange(1, 7), end=' ')\n",
    "# Output: 1 2 2 3 6 2 4 1 6 1\n",
    "\n",
    "print(\"\\n---\")\n",
    "\n",
    "# Without reseeding, the sequence continues (different results)\n",
    "for roll in range(10):\n",
    "    print(random.randrange(1, 7), end=' ')\n",
    "# Example Output: 1 3 5 3 1 5 6 4 3 5\n",
    "\n",
    "print(\"\\n---\")\n",
    "\n",
    "# Reset the seed to 32 again\n",
    "random.seed(32)\n",
    "\n",
    "# Generate again: same as the first sequence\n",
    "for roll in range(10):\n",
    "    print(random.randrange(1, 7), end=' ')\n",
    "# Output: 1 2 2 3 6 2 4 1 6 1\n"
   ]
  },
  {
   "cell_type": "markdown",
   "id": "d6e4d4ad-1d15-4d03-8fe1-56f97629496c",
   "metadata": {
    "slideshow": {
     "slide_type": "subslide"
    }
   },
   "source": [
    "**Chemical Engineering Example:**  \n",
    "Simulate variation in feed concentration due to fluctuations."
   ]
  },
  {
   "cell_type": "code",
   "execution_count": 8,
   "id": "64d17e72-5182-475f-8ea5-87d7107171b9",
   "metadata": {
    "slideshow": {
     "slide_type": "fragment"
    }
   },
   "outputs": [
    {
     "name": "stdout",
     "output_type": "stream",
     "text": [
      "1.0096573004954879\n",
      "1.0011924432526522\n",
      "0.9976894911020239\n",
      "1.0410644447196382\n",
      "0.9589071864508314\n"
     ]
    }
   ],
   "source": [
    "import random\n",
    "\n",
    "def simulate_feed_concentration(base_C, variation=0.05):\n",
    "    return base_C * (1 + random.uniform(-variation, variation))\n",
    "\n",
    "for i in range(5):\n",
    "    print(simulate_feed_concentration(1.0))"
   ]
  },
  {
   "cell_type": "markdown",
   "id": "04ede5b8-1aef-439b-b8c4-ef7ce7ed3c7c",
   "metadata": {
    "slideshow": {
     "slide_type": "subslide"
    }
   },
   "source": [
    "## 4.5 Case Study: A Game of Chance\n",
    "Games help us practice randomness. Later, we can extend to Monte Carlo simulation.\n"
   ]
  },
  {
   "cell_type": "code",
   "execution_count": 28,
   "id": "7d00b87f-91fe-4b02-8cb0-cda77f4568a5",
   "metadata": {
    "slideshow": {
     "slide_type": "fragment"
    }
   },
   "outputs": [
    {
     "name": "stdout",
     "output_type": "stream",
     "text": [
      "Rolled: 3\n"
     ]
    }
   ],
   "source": [
    "# Generic dice roll\n",
    "def roll_dice():\n",
    "    return random.randint(1, 6)\n",
    "\n",
    "print(\"Rolled:\", roll_dice())"
   ]
  },
  {
   "cell_type": "markdown",
   "id": "18906119",
   "metadata": {
    "slideshow": {
     "slide_type": "subslide"
    }
   },
   "source": [
    "## Case Study: A Game of Chance — Craps\n",
    "\n",
    "Craps is a popular dice game. The rules are:\n",
    "\n",
    "1. **First Roll (Come-Out Roll):**\n",
    "   - Roll two six-sided dice.\n",
    "   - If the sum is **7 or 11** → the player **wins immediately**.\n",
    "   - If the sum is **2, 3, or 12** → the player **loses immediately** (\"craps\").\n",
    "   - If the sum is **4, 5, 6, 8, 9, or 10** → this value becomes the player’s **point**.\n",
    "\n",
    "2. **Subsequent Rolls:**\n",
    "   - The player keeps rolling the dice until:\n",
    "     - They roll the **point value again** → the player **wins**.\n",
    "     - They roll a **7 before the point** → the player **loses**.\n",
    "\n",
    "Each play of the game results in either a win or a loss.\n"
   ]
  },
  {
   "cell_type": "code",
   "execution_count": 22,
   "id": "ffeedbbe",
   "metadata": {
    "slideshow": {
     "slide_type": "subslide"
    }
   },
   "outputs": [
    {
     "name": "stdout",
     "output_type": "stream",
     "text": [
      "Player rolled 5 + 5 = 10\n",
      "Point is 10\n",
      "Player rolled 6 + 3 = 9\n",
      "Player rolled 3 + 4 = 7\n",
      "Player loses\n"
     ]
    }
   ],
   "source": [
    "\"\"\"Simulating the dice game Craps.\"\"\"\n",
    "import random\n",
    "\n",
    "def roll_dice():\n",
    "    \"\"\"Roll two dice and return their face values as a tuple.\"\"\"\n",
    "    die1 = random.randrange(1, 7)  # random int 1–6\n",
    "    die2 = random.randrange(1, 7)  # random int 1–6\n",
    "    return (die1, die2)  # return as a tuple\n",
    "\n",
    "def display_dice(dice):\n",
    "    \"\"\"Display the result of rolling two dice.\"\"\"\n",
    "    die1, die2 = dice  # unpack tuple\n",
    "    print(f'Player rolled {die1} + {die2} = {sum(dice)}')\n",
    "\n",
    "# --- Start the game ---\n",
    "die_values = roll_dice()       # first roll\n",
    "display_dice(die_values)\n",
    "\n",
    "# Determine game status and point based on the first roll\n",
    "sum_of_dice = sum(die_values)\n",
    "\n",
    "if sum_of_dice in (7, 11):        # win on first roll\n",
    "    game_status = 'WON'\n",
    "elif sum_of_dice in (2, 3, 12):   # lose on first roll\n",
    "    game_status = 'LOST'\n",
    "else:                             # establish the point\n",
    "    game_status = 'CONTINUE'\n",
    "    my_point = sum_of_dice\n",
    "    print('Point is', my_point)\n",
    "\n",
    "# Continue rolling until player wins or loses\n",
    "while game_status == 'CONTINUE':\n",
    "    die_values = roll_dice()\n",
    "    display_dice(die_values)\n",
    "    sum_of_dice = sum(die_values)\n",
    "\n",
    "    if sum_of_dice == my_point:   # player wins by making point\n",
    "        game_status = 'WON'\n",
    "    elif sum_of_dice == 7:        # player loses by rolling 7\n",
    "        game_status = 'LOST'\n",
    "\n",
    "# Display final result\n",
    "if game_status == 'WON':\n",
    "    print('Player wins')\n",
    "else:\n",
    "    print('Player loses')\n"
   ]
  },
  {
   "cell_type": "markdown",
   "id": "fa1ef028-74d5-4e94-8132-af38425fd3a6",
   "metadata": {
    "slideshow": {
     "slide_type": "subslide"
    }
   },
   "source": [
    "**Chemical Engineering Case Study:**  \n",
    "Monte Carlo simulation of reaction yield (random catalyst activity).\n"
   ]
  },
  {
   "cell_type": "code",
   "execution_count": 30,
   "id": "f2d913e6-af0c-40ef-813a-f780550cf2eb",
   "metadata": {
    "slideshow": {
     "slide_type": "fragment"
    }
   },
   "outputs": [
    {
     "name": "stdout",
     "output_type": "stream",
     "text": [
      "Simulated yields: [83.39413697529031, 86.25566920858074, 72.0035002703345, 79.15726109616404, 82.54684108833726, 82.2137279309448, 73.69328451993182, 76.24962032000514, 74.38584596532804, 79.58967114341108]\n"
     ]
    }
   ],
   "source": [
    "def reaction_yield(base_yield, variation=0.1):\n",
    "    return base_yield * (1 + random.uniform(-variation, variation))\n",
    "\n",
    "simulations = [reaction_yield(80) for _ in range(10)]\n",
    "print(\"Simulated yields:\", simulations)\n"
   ]
  },
  {
   "cell_type": "markdown",
   "id": "1d8674e9-3e3a-4e99-9fb9-af16862d9e54",
   "metadata": {
    "slideshow": {
     "slide_type": "subslide"
    }
   },
   "source": [
    "**Chemical Engineering Example:**  \n",
    "Arrhenius equation:\n",
    "$$\n",
    "k = A \\exp\\left(-\\frac{E_a}{RT}\\right)\n",
    "$$"
   ]
  },
  {
   "cell_type": "code",
   "execution_count": 33,
   "id": "945f7cfe-6454-429d-8f72-652e812f296a",
   "metadata": {
    "slideshow": {
     "slide_type": "fragment"
    }
   },
   "outputs": [
    {
     "name": "stdout",
     "output_type": "stream",
     "text": [
      "Rate constant k = 1.1487419956649154e-05\n"
     ]
    }
   ],
   "source": [
    "import math\n",
    "def arrhenius(A, Ea, R, T):\n",
    "    return A * math.exp(-Ea / (R*T))\n",
    "\n",
    "k = arrhenius(A=1e7, Ea=80000, R=8.314, T=350)\n",
    "print(\"Rate constant k =\", k)\n"
   ]
  },
  {
   "cell_type": "markdown",
   "id": "1732737f",
   "metadata": {
    "slideshow": {
     "slide_type": "slide"
    }
   },
   "source": [
    "## 4.6 Python Standard Library\n",
    "\n",
    "When writing Python programs, you typically combine **functions** and **classes** you create with preexisting functionality from Python’s **Standard Library** and other external libraries.\n",
    "\n",
    "### Key Concepts\n",
    "- **Module**: A Python file (`.py`) that groups related functions, data, and classes.\n",
    "- **Package**: A collection of related modules, organized together.  \n",
    "  - Packages are used to structure large libraries into smaller, more manageable parts.\n",
    "\n",
    "### Why Use the Standard Library?\n",
    "A main programming principle is to **avoid reinventing the wheel**. Python’s Standard Library provides many ready-to-use modules and classes so you don’t need to implement everything from scratch.\n",
    "\n",
    "### Example: Using `decimal.Decimal`\n",
    "The `Decimal` type from the `decimal` module (in the Standard Library) is a **class** that provides precise decimal arithmetic, often used in financial or scientific applications where floating-point precision isn’t enough.\n",
    "\n",
    "```python\n",
    "from decimal import Decimal\n",
    "\n",
    "# Working with Decimal for higher precision\n",
    "x = Decimal('0.1')\n",
    "y = Decimal('0.2')\n",
    "z = x + y\n",
    "\n",
    "print(\"Using Decimal:\", z)   # More precise than float addition\n"
   ]
  },
  {
   "cell_type": "markdown",
   "id": "cdea32ea",
   "metadata": {
    "slideshow": {
     "slide_type": "slide"
    }
   },
   "source": [
    "## 4.7 math Module Functions\n",
    "\n",
    "The `math` module in Python defines many functions for performing common mathematical calculations.\n",
    "\n",
    "To use it, you must first **import** the module:\n",
    "\n",
    "```python\n",
    "import math\n"
   ]
  },
  {
   "cell_type": "code",
   "execution_count": 24,
   "id": "74114375",
   "metadata": {
    "slideshow": {
     "slide_type": "fragment"
    }
   },
   "outputs": [
    {
     "name": "stdout",
     "output_type": "stream",
     "text": [
      "30.0\n"
     ]
    }
   ],
   "source": [
    "import math\n",
    "\n",
    "result = math.sqrt(900)  # square root of 900\n",
    "print(result)  # Output: 30.0\n"
   ]
  },
  {
   "cell_type": "code",
   "execution_count": 25,
   "id": "22991c46",
   "metadata": {
    "slideshow": {
     "slide_type": "subslide"
    }
   },
   "outputs": [
    {
     "name": "stdout",
     "output_type": "stream",
     "text": [
      "10.0\n"
     ]
    }
   ],
   "source": [
    "import math\n",
    "\n",
    "result = math.fabs(-10)  # absolute value of -10\n",
    "print(result)  # Output: 10.0\n"
   ]
  },
  {
   "cell_type": "markdown",
   "id": "9121423b",
   "metadata": {
    "slideshow": {
     "slide_type": "slide"
    }
   },
   "source": [
    "## 4.8 Using IPython Tab Completion and Viewing Module Identifiers\n",
    "\n",
    "When working interactively in **IPython** or **Jupyter Notebook**, you can use **Tab completion** to:\n",
    "- Discover available identifiers (functions, classes, variables) in a module.\n",
    "- Speed up coding and avoid typos.\n",
    "- Explore functionality without leaving your coding environment.\n",
    "\n",
    "---\n",
    "\n",
    "### Tab Completion Basics\n",
    "1. Import a module.\n",
    "2. Type part of the name, then press **Tab**.\n",
    "3. IPython will either auto-complete or show a **list of identifiers**.\n",
    "\n",
    "```python\n",
    "In [1]: import math\n",
    "\n",
    "In [2]: ma<Tab>\n"
   ]
  },
  {
   "cell_type": "markdown",
   "id": "bf770bd3",
   "metadata": {
    "slideshow": {
     "slide_type": "subslide"
    }
   },
   "source": [
    "### Example: Tab Completion Results\n",
    "\n",
    "When typing `ma<Tab>` in IPython, you might see:\n",
    "\n"
   ]
  },
  {
   "cell_type": "markdown",
   "id": "6bb3f011",
   "metadata": {
    "slideshow": {
     "slide_type": "fragment"
    }
   },
   "source": [
    "map       %macro       %%markdown  \n",
    "math      %magic       %matplotlib  \n",
    "max()     %man"
   ]
  },
  {
   "cell_type": "markdown",
   "id": "a52da0f8-6617-470c-bc59-5a66aaad4498",
   "metadata": {
    "slideshow": {
     "slide_type": "slide"
    }
   },
   "source": [
    "## 4.9 Default Parameter Values\n",
    "Functions can have default values.\n"
   ]
  },
  {
   "cell_type": "code",
   "execution_count": 34,
   "id": "a8de56cd-56e6-4a19-bf97-a806193810b8",
   "metadata": {
    "slideshow": {
     "slide_type": "fragment"
    }
   },
   "outputs": [
    {
     "name": "stdout",
     "output_type": "stream",
     "text": [
      "Hello, Student\n",
      "Hello, Haider\n"
     ]
    }
   ],
   "source": [
    "def greet(name=\"Student\"):\n",
    "    print(\"Hello,\", name)\n",
    "\n",
    "greet()\n",
    "greet(\"Haider\")\n"
   ]
  },
  {
   "cell_type": "markdown",
   "id": "b294133a-10d0-4459-8c40-3ad81d270e23",
   "metadata": {
    "slideshow": {
     "slide_type": "subslide"
    }
   },
   "source": [
    "**Chemical Engineering Example:**  \n",
    "Default temperature in Arrhenius if not provided.\n"
   ]
  },
  {
   "cell_type": "code",
   "execution_count": 36,
   "id": "c1b627d5-4961-4add-9106-9c7d7c89cb6e",
   "metadata": {
    "slideshow": {
     "slide_type": "fragment"
    }
   },
   "outputs": [
    {
     "name": "stdout",
     "output_type": "stream",
     "text": [
      "9.47919354208195e-08\n"
     ]
    }
   ],
   "source": [
    "def arrhenius_default(A, Ea, R=8.314, T=298):\n",
    "    return A * math.exp(-Ea/(R*T))\n",
    "\n",
    "print(arrhenius_default(1e7, 80000))\n"
   ]
  },
  {
   "cell_type": "markdown",
   "id": "3b3d4f8b",
   "metadata": {
    "slideshow": {
     "slide_type": "slide"
    }
   },
   "source": [
    "## 4.10 Keyword Arguments\n",
    "\n",
    "When calling functions, you can use **keyword arguments** to pass values in any order.  \n",
    "Each keyword argument has the form:\n",
    "\n"
   ]
  },
  {
   "cell_type": "code",
   "execution_count": 45,
   "id": "4e6962ad",
   "metadata": {
    "slideshow": {
     "slide_type": "fragment"
    }
   },
   "outputs": [],
   "source": [
    "### Example: Rectangle Area Function\n",
    "# We define a function `rectangle_area` with two parameters: `length` and `width`.\n",
    "\n",
    "def rectangle_area(length, width):\n",
    "    \"\"\"Return a rectangle's area.\"\"\"\n",
    "    return length * width"
   ]
  },
  {
   "cell_type": "code",
   "execution_count": 46,
   "id": "835a6381",
   "metadata": {
    "slideshow": {
     "slide_type": "fragment"
    }
   },
   "outputs": [
    {
     "name": "stdout",
     "output_type": "stream",
     "text": [
      "50\n"
     ]
    }
   ],
   "source": [
    "# Using keyword arguments in any order\n",
    "print(rectangle_area(width=5, length=10))  # Output: 50"
   ]
  },
  {
   "cell_type": "markdown",
   "id": "d404a56b-692e-45cf-88d9-d031d507315f",
   "metadata": {
    "slideshow": {
     "slide_type": "slide"
    }
   },
   "source": [
    "## 4.11 Arbitrary Argument Lists\n",
    "We can pass variable numbers of arguments using `*args`.\n"
   ]
  },
  {
   "cell_type": "code",
   "execution_count": 37,
   "id": "2876c706-b0ac-4c0f-8b84-f32386493e61",
   "metadata": {
    "slideshow": {
     "slide_type": "fragment"
    }
   },
   "outputs": [
    {
     "name": "stdout",
     "output_type": "stream",
     "text": [
      "15\n"
     ]
    }
   ],
   "source": [
    "def sum_all(*args):\n",
    "    return sum(args)\n",
    "\n",
    "print(sum_all(1,2,3,4,5))\n"
   ]
  },
  {
   "cell_type": "markdown",
   "id": "12b2df28-41d6-48e3-9939-bcaf998fe15f",
   "metadata": {
    "slideshow": {
     "slide_type": "subslide"
    }
   },
   "source": [
    "**Chemical Engineering Example:**  \n",
    "Mixing multiple streams → average concentration.\n"
   ]
  },
  {
   "cell_type": "code",
   "execution_count": 38,
   "id": "4239c49d-025f-44c6-b637-c298c2ffec98",
   "metadata": {
    "slideshow": {
     "slide_type": "fragment"
    }
   },
   "outputs": [
    {
     "name": "stdout",
     "output_type": "stream",
     "text": [
      "1.05\n"
     ]
    }
   ],
   "source": [
    "def avg_concentration(*concentrations):\n",
    "    return sum(concentrations) / len(concentrations)\n",
    "\n",
    "print(avg_concentration(1.0, 1.2, 0.9, 1.1))\n"
   ]
  },
  {
   "cell_type": "markdown",
   "id": "77b91824",
   "metadata": {
    "slideshow": {
     "slide_type": "slide"
    }
   },
   "source": [
    "## 4.12 Methods: Functions That Belong to Objects\n",
    "\n",
    "A **method** is simply a function that you call on an object using the form:\n",
    "\n"
   ]
  },
  {
   "cell_type": "code",
   "execution_count": 76,
   "id": "f888fc0c",
   "metadata": {
    "slideshow": {
     "slide_type": "fragment"
    }
   },
   "outputs": [
    {
     "name": "stdout",
     "output_type": "stream",
     "text": [
      "hello\n",
      "HELLO\n",
      "Hello\n"
     ]
    }
   ],
   "source": [
    "# Example with Strings\n",
    "# Strings are objects and have many built-in methods\n",
    "\n",
    "# Create a string object\n",
    "s = \"Hello\"\n",
    "\n",
    "# Call the .lower() method (returns a lowercase version)\n",
    "print(s.lower())   \n",
    "\n",
    "# Call the .upper() method (returns an uppercase version)\n",
    "print(s.upper())   \n",
    "\n",
    "# The original string remains unchanged\n",
    "print(s)           "
   ]
  },
  {
   "cell_type": "code",
   "execution_count": 77,
   "id": "876e66ef",
   "metadata": {
    "slideshow": {
     "slide_type": "subslide"
    }
   },
   "outputs": [
    {
     "name": "stdout",
     "output_type": "stream",
     "text": [
      "reactor_outflow\n",
      "REACTOR_OUTFLOW\n",
      "Separator_Outflow\n",
      "Reactor_Outflow\n"
     ]
    }
   ],
   "source": [
    "# --- Chemical Engineering Example ---\n",
    "# Suppose we are working with stream names in a process simulation\n",
    "stream_name = \"Reactor_Outflow\"\n",
    "\n",
    "# Convert to lowercase for standardized database storage\n",
    "print(stream_name.lower())   \n",
    "\n",
    "# Convert to uppercase for labeling on a P&ID diagram\n",
    "print(stream_name.upper())   \n",
    "\n",
    "# Replace part of the string to rename the stream\n",
    "new_stream = stream_name.replace(\"Reactor\", \"Separator\")\n",
    "print(new_stream)  \n",
    "\n",
    "# Original string remains unchanged\n",
    "print(stream_name) \n"
   ]
  },
  {
   "cell_type": "markdown",
   "id": "d83d9d89-e129-4fdb-90be-4bcde6f5353b",
   "metadata": {
    "slideshow": {
     "slide_type": "slide"
    }
   },
   "source": [
    "## 4.13 Scope Rules\n",
    "\n",
    "Each identifier (name) in Python has a **scope** that determines **where it can be used** in a program.  \n",
    "\n",
    "- **Local Scope**  \n",
    "  A variable defined inside a function is **local**.  \n",
    "  It exists only within that function and disappears once the function ends.  \n",
    "\n",
    "- **Global Scope**  \n",
    "  Identifiers defined outside any function or class have **global scope**.  \n",
    "  These include functions, variables, and classes defined at the top level of a program.  \n",
    "  They can be used anywhere in the file after they are defined.\n"
   ]
  },
  {
   "cell_type": "code",
   "execution_count": 39,
   "id": "9f0c3ed2-ceef-404d-86b5-8d139e0fa4ec",
   "metadata": {
    "slideshow": {
     "slide_type": "subslide"
    }
   },
   "outputs": [
    {
     "name": "stdout",
     "output_type": "stream",
     "text": [
      "Inside: 5\n",
      "Outside: 10\n"
     ]
    }
   ],
   "source": [
    "def demo_scope():\n",
    "    x = 5\n",
    "    print(\"Inside:\", x)\n",
    "\n",
    "x = 10\n",
    "demo_scope()\n",
    "print(\"Outside:\", x)\n"
   ]
  },
  {
   "cell_type": "code",
   "execution_count": 50,
   "id": "3c08cc2c",
   "metadata": {
    "slideshow": {
     "slide_type": "subslide"
    }
   },
   "outputs": [
    {
     "name": "stdout",
     "output_type": "stream",
     "text": [
      "Inside function: 10 meters\n",
      "Outside function: meters\n"
     ]
    }
   ],
   "source": [
    "# Global variable\n",
    "unit = \"meters\"\n",
    "\n",
    "def calculate_length():\n",
    "    # Local variable\n",
    "    length = 10\n",
    "    print(\"Inside function:\", length, unit)  # unit is global, length is local\n",
    "\n",
    "calculate_length()\n",
    "\n",
    "# Trying to access 'length' outside the function causes an error\n",
    "# print(length)  # Uncommenting this will cause NameError\n",
    "\n",
    "# 'unit' is global and can be accessed anywhere\n",
    "print(\"Outside function:\", unit)\n"
   ]
  },
  {
   "cell_type": "markdown",
   "id": "57f1595e",
   "metadata": {
    "slideshow": {
     "slide_type": "slide"
    }
   },
   "source": [
    "## 4.14 `import`: A Deeper Look\n",
    "\n",
    "So far, we’ve used `import` to bring in modules like `math` and `random`. There are several ways to import functionality, each with its pros and cons.\n",
    "\n",
    "---\n",
    "\n",
    "### 1. Importing an Entire Module\n",
    "You can import a whole module, then access its functions using the module name and a dot:\n",
    "\n",
    "```python\n",
    "import math\n",
    "\n",
    "print(math.sqrt(16))   # Output: 4.0\n",
    "print(math.floor(10.7))  # Output: 10\n"
   ]
  },
  {
   "cell_type": "code",
   "execution_count": 51,
   "id": "2a0b8b10",
   "metadata": {
    "slideshow": {
     "slide_type": "subslide"
    }
   },
   "outputs": [
    {
     "name": "stdout",
     "output_type": "stream",
     "text": [
      "11\n",
      "10\n"
     ]
    }
   ],
   "source": [
    "# You can import specific functions, classes, or constants from a module with from module import identifier.\n",
    "from math import ceil, floor\n",
    "\n",
    "print(ceil(10.3))   # Output: 11\n",
    "print(floor(10.7))  # Output: 10\n"
   ]
  },
  {
   "cell_type": "code",
   "execution_count": 52,
   "id": "6ef5e41a",
   "metadata": {
    "slideshow": {
     "slide_type": "subslide"
    }
   },
   "outputs": [
    {
     "name": "stdout",
     "output_type": "stream",
     "text": [
      "2.718281828459045\n"
     ]
    }
   ],
   "source": [
    "# Wildcard imports (from module import *) import all identifiers into your current namespace.\n",
    "# This can lead to naming conflicts and accidental overwrites.\n",
    "\n",
    "e = \"hello\"  # Our variable\n",
    "from math import *  # Brings in all math identifiers\n",
    "print(e)  # Output: 2.718281828459045 (math constant e overwrote our variable!)"
   ]
  },
  {
   "cell_type": "code",
   "execution_count": 53,
   "id": "57094094",
   "metadata": {
    "slideshow": {
     "slide_type": "subslide"
    }
   },
   "outputs": [
    {
     "name": "stdout",
     "output_type": "stream",
     "text": [
      "80.6\n"
     ]
    }
   ],
   "source": [
    "# You can use the as keyword to give a module (or identifier) a shorter or more convenient name.\n",
    "import statistics as stats\n",
    "\n",
    "grades = [85, 93, 45, 87, 93]\n",
    "print(stats.mean(grades))"
   ]
  },
  {
   "cell_type": "code",
   "execution_count": null,
   "id": "8c6dc837",
   "metadata": {
    "slideshow": {
     "slide_type": "fragment"
    }
   },
   "outputs": [],
   "source": [
    "# This is common in scientific computing:\n",
    "import numpy as np   # numpy is conventionally imported as np\n",
    "import pandas as pd  # pandas is conventionally imported as pd"
   ]
  },
  {
   "cell_type": "markdown",
   "id": "0b7a265a",
   "metadata": {
    "slideshow": {
     "slide_type": "subslide"
    }
   },
   "source": [
    "### Chemical Engineering Example: Arrhenius Equation and Reactor Volume\n",
    "\n",
    "In chemical kinetics, the **Arrhenius equation** describes how the rate constant `k` depends on temperature:\n",
    "\n",
    "$$\n",
    "k = A \\cdot e^{-E_a / (R \\cdot T)}\n",
    "$$\n",
    "\n",
    "where:  \n",
    "- \\( A \\) = pre-exponential factor  \n",
    "- \\( E_a \\) = activation energy (J/mol)  \n",
    "- \\( R \\) = gas constant (J/(mol·K))  \n",
    "- \\( T \\) = temperature (K)  \n",
    "\n",
    "We’ll also use `pi` to compute the volume of a **cylindrical reactor**.\n"
   ]
  },
  {
   "cell_type": "code",
   "execution_count": 54,
   "id": "0fef77ab",
   "metadata": {
    "slideshow": {
     "slide_type": "subslide"
    }
   },
   "outputs": [
    {
     "name": "stdout",
     "output_type": "stream",
     "text": [
      "Rate constant k: 1.1487419956649154e-05 1/s\n",
      "Reactor volume: 1.5707963267948966 m^3\n"
     ]
    }
   ],
   "source": [
    "from math import exp, pi\n",
    "\n",
    "# Constants\n",
    "A = 1e7         # pre-exponential factor, 1/s\n",
    "Ea = 80000      # activation energy, J/mol\n",
    "R = 8.314       # gas constant, J/(mol·K)\n",
    "T = 350         # temperature in K\n",
    "\n",
    "# Arrhenius rate constant\n",
    "k = A * exp(-Ea / (R * T))\n",
    "print(\"Rate constant k:\", k, \"1/s\")\n",
    "\n",
    "# Reactor geometry\n",
    "radius = 0.5  # meters\n",
    "height = 2.0  # meters\n",
    "\n",
    "volume = pi * radius**2 * height\n",
    "print(\"Reactor volume:\", volume, \"m^3\")\n"
   ]
  },
  {
   "cell_type": "markdown",
   "id": "0121b39c",
   "metadata": {
    "slideshow": {
     "slide_type": "slide"
    }
   },
   "source": [
    "## 4.15 Passing Arguments to Functions: A Deeper Look\n",
    "\n",
    "In many programming languages, arguments can be passed in two ways:  \n",
    "- **Pass-by-value** → the function gets a *copy* of the value.  \n",
    "- **Pass-by-reference** → the function gets *direct access* to the variable itself.  \n",
    "\n",
    "In **Python**, everything is an **object**, and arguments are passed by **object reference**.  \n",
    "This means:\n",
    "- For **immutable objects** (e.g., `int`, `float`, `str`, `tuple`), you cannot modify the original object inside the function.  \n",
    "- For **mutable objects** (e.g., `list`, `dict`, `set`), you can modify the original object inside the function.  "
   ]
  },
  {
   "cell_type": "markdown",
   "id": "1524b4ac",
   "metadata": {
    "slideshow": {
     "slide_type": "subslide"
    }
   },
   "source": [
    "### Memory, References, and `id()`\n",
    "When you assign a variable in Python, it stores a **reference** (pointer) to an object in memory."
   ]
  },
  {
   "cell_type": "code",
   "execution_count": 55,
   "id": "48f7147c",
   "metadata": {
    "slideshow": {
     "slide_type": "fragment"
    }
   },
   "outputs": [
    {
     "name": "stdout",
     "output_type": "stream",
     "text": [
      "x = 7\n",
      "id(x) = 140714592642152\n"
     ]
    }
   ],
   "source": [
    "x = 7\n",
    "print(\"x =\", x)\n",
    "print(\"id(x) =\", id(x))  # unique identity of object in memory"
   ]
  },
  {
   "cell_type": "code",
   "execution_count": 4,
   "id": "d9018860",
   "metadata": {
    "slideshow": {
     "slide_type": "subslide"
    }
   },
   "outputs": [],
   "source": [
    "# Passing an Immutable Object\n",
    "def cube(number):\n",
    "    print(\"id(number):\", id(number))\n",
    "    return number ** 3"
   ]
  },
  {
   "cell_type": "code",
   "execution_count": 5,
   "id": "fb5d62c1",
   "metadata": {
    "slideshow": {
     "slide_type": "fragment"
    }
   },
   "outputs": [
    {
     "name": "stdout",
     "output_type": "stream",
     "text": [
      "id(x): 140726465733736\n",
      "id(number): 140726465733736\n",
      "Cube of x: 343\n",
      "x after function call: 7\n"
     ]
    }
   ],
   "source": [
    "x = 7\n",
    "print(\"id(x):\", id(x))  # same as id(number) when passed\n",
    "result = cube(x)\n",
    "\n",
    "print(\"Cube of x:\", result)  \n",
    "print(\"x after function call:\", x)  # x is unchanged\n"
   ]
  },
  {
   "cell_type": "code",
   "execution_count": 6,
   "id": "4505eb72",
   "metadata": {
    "slideshow": {
     "slide_type": "subslide"
    }
   },
   "outputs": [],
   "source": [
    "# Demonstrating Reassignment\n",
    "def cube(number):\n",
    "    print(\"id(number) before modifying:\", id(number))\n",
    "    number **= 3  # creates a new integer object\n",
    "    print(\"id(number) after modifying:\", id(number))\n",
    "    return number"
   ]
  },
  {
   "cell_type": "code",
   "execution_count": 8,
   "id": "ee310041",
   "metadata": {
    "slideshow": {
     "slide_type": "fragment"
    }
   },
   "outputs": [
    {
     "name": "stdout",
     "output_type": "stream",
     "text": [
      "id(number) before modifying: 140726465733736\n",
      "id(number) after modifying: 2361908000720\n",
      "x = 7; id(x) = 140726465733736\n"
     ]
    }
   ],
   "source": [
    "x = 7\n",
    "result = cube(x)\n",
    "\n",
    "print(f\"x = {x}; id(x) = {id(x)}\")"
   ]
  },
  {
   "cell_type": "markdown",
   "id": "e171b1ce",
   "metadata": {
    "slideshow": {
     "slide_type": "fragment"
    }
   },
   "source": [
    "\n",
    "Do you also want me to **extend this with a chemical engineering example** (e.g., passing a list of reactor concentrations vs. immutable temperature values) to make it field-specific?\n"
   ]
  },
  {
   "cell_type": "code",
   "execution_count": 9,
   "id": "aa4f9c03",
   "metadata": {
    "slideshow": {
     "slide_type": "subslide"
    }
   },
   "outputs": [],
   "source": [
    "# Passing a Mutable Object\n",
    "def modify_list(data):\n",
    "    print(\"Before modification:\", data)\n",
    "    data.append(100)  # modifies original list\n",
    "    print(\"After modification:\", data)"
   ]
  },
  {
   "cell_type": "code",
   "execution_count": 10,
   "id": "67f1e875",
   "metadata": {
    "slideshow": {
     "slide_type": "fragment"
    }
   },
   "outputs": [
    {
     "name": "stdout",
     "output_type": "stream",
     "text": [
      "Before modification: [1, 2, 3]\n",
      "After modification: [1, 2, 3, 100]\n",
      "Outside function: [1, 2, 3, 100]\n"
     ]
    }
   ],
   "source": [
    "numbers = [1, 2, 3]\n",
    "modify_list(numbers)\n",
    "\n",
    "print(\"Outside function:\", numbers)  # reflects the change"
   ]
  },
  {
   "cell_type": "markdown",
   "id": "2b5c26a5",
   "metadata": {
    "slideshow": {
     "slide_type": "fragment"
    }
   },
   "source": [
    "**Key Point:** Since lists are *mutable*, the function **changes the original list**.\n"
   ]
  },
  {
   "cell_type": "markdown",
   "id": "ccb2deee-6d8e-453c-9525-9ef4dcb40a69",
   "metadata": {
    "slideshow": {
     "slide_type": "slide"
    }
   },
   "source": [
    "## 4.16 Function-Call Stack\n",
    "Functions call other functions. Python keeps track in a call stack.\n"
   ]
  },
  {
   "cell_type": "code",
   "execution_count": 40,
   "id": "6b3e146a-5da2-4d44-b13b-53d813f3041c",
   "metadata": {
    "slideshow": {
     "slide_type": "fragment"
    }
   },
   "outputs": [
    {
     "name": "stdout",
     "output_type": "stream",
     "text": [
      "f1 calls f2\n",
      "Inside f2\n"
     ]
    }
   ],
   "source": [
    "def f1():\n",
    "    print(\"f1 calls f2\")\n",
    "    f2()\n",
    "\n",
    "def f2():\n",
    "    print(\"Inside f2\")\n",
    "\n",
    "f1()\n"
   ]
  },
  {
   "cell_type": "markdown",
   "id": "0446ec7b-9a44-46c6-88c4-eb2cd10d3f64",
   "metadata": {
    "slideshow": {
     "slide_type": "slide"
    }
   },
   "source": [
    "## 4.17 Functional-Style Programming\n",
    "\n",
    "Like other popular languages (e.g., Java and C#), Python is not a purely functional language.  \n",
    "However, it provides **functional-style features** that make code:\n",
    "\n",
    "- Easier to read and debug  \n",
    "- Less error-prone  \n",
    "- More concise  \n",
    "- Easier to parallelize on modern multi-core processors  "
   ]
  },
  {
   "cell_type": "markdown",
   "id": "032499d8",
   "metadata": {
    "slideshow": {
     "slide_type": "subslide"
    }
   },
   "source": [
    "### What vs. How\n",
    "\n",
    "Traditional **external iteration** (like `for` loops in many languages) requires specifying:  \n",
    "\n",
    "- A counter variable  \n",
    "- Its initial value  \n",
    "- How to increment it  \n",
    "- A condition for stopping  \n",
    "\n",
    "This style is **error-prone** because it often mutates variables.  \n",
    "\n",
    "**Functional-style programming** emphasizes:  \n",
    "- **Immutability** (avoiding variable modifications)  \n",
    "- **Declarative style**: stating *what* you want, not *how* to do it  "
   ]
  },
  {
   "cell_type": "code",
   "execution_count": 12,
   "id": "c8f5d913",
   "metadata": {
    "slideshow": {
     "slide_type": "subslide"
    }
   },
   "outputs": [
    {
     "name": "stdout",
     "output_type": "stream",
     "text": [
      "0 1 2 3 4 "
     ]
    }
   ],
   "source": [
    "### Example: Iteration with `range` and `for`\n",
    "\n",
    "# External iteration (more error-prone in other languages):\n",
    "# for (int i = 0; i < 10; i++) { ... }\n",
    "\n",
    "# Python hides most details:\n",
    "for i in range(5):\n",
    "    print(i, end=\" \")"
   ]
  },
  {
   "cell_type": "markdown",
   "id": "3691fe44",
   "metadata": {
    "slideshow": {
     "slide_type": "fragment"
    }
   },
   "source": [
    "Here:\n",
    "\n",
    "- `range(5)` automatically generates numbers from `0` to `4`.  \n",
    "- The `for` loop internally handles iteration and termination.  \n",
    "- You focus only on **what** you want (looping over values), not **how** to manage the counter.  \n"
   ]
  },
  {
   "cell_type": "markdown",
   "id": "303fc4bf",
   "metadata": {
    "slideshow": {
     "slide_type": "subslide"
    }
   },
   "source": [
    "### Built-in Reductions\n",
    "\n",
    "Python’s built-in functions like `sum`, `min`, and `max` use **internal iteration**.  \n",
    "You just declare what you want:"
   ]
  },
  {
   "cell_type": "code",
   "execution_count": 68,
   "id": "2056f4a7",
   "metadata": {
    "slideshow": {
     "slide_type": "fragment"
    }
   },
   "outputs": [
    {
     "name": "stdout",
     "output_type": "stream",
     "text": [
      "Total: 355\n",
      "Minimum: 85\n",
      "Maximum: 92\n"
     ]
    }
   ],
   "source": [
    "grades = [90, 85, 92, 88]\n",
    "\n",
    "print(\"Total:\", sum(grades))  \n",
    "print(\"Minimum:\", min(grades))\n",
    "print(\"Maximum:\", max(grades)) \n"
   ]
  },
  {
   "cell_type": "markdown",
   "id": "9c85affd",
   "metadata": {
    "slideshow": {
     "slide_type": "subslide"
    }
   },
   "source": [
    "### Pure Functions\n",
    "\n",
    "A **pure function**:\n",
    "\n",
    "- Depends only on its input arguments  \n",
    "- Always produces the same output for the same input  \n",
    "- Has no side effects (does not modify data outside its scope)  \n",
    "\n",
    "**Example with `sum`:**\n"
   ]
  },
  {
   "cell_type": "code",
   "execution_count": 70,
   "id": "dd8207a6",
   "metadata": {
    "slideshow": {
     "slide_type": "fragment"
    }
   },
   "outputs": [
    {
     "name": "stdout",
     "output_type": "stream",
     "text": [
      "6\n",
      "6\n",
      "[1, 2, 3]\n"
     ]
    }
   ],
   "source": [
    "values = [1, 2, 3]\n",
    "\n",
    "print(sum(values))  \n",
    "print(sum(values))  # Same input same output\n",
    "print(values)      \n"
   ]
  },
  {
   "cell_type": "markdown",
   "id": "2dc8742b",
   "metadata": {
    "slideshow": {
     "slide_type": "slide"
    }
   },
   "source": [
    "### Explanation of `list`, `map()`, and `lambda`\n",
    "\n",
    "- **`list`**  \n",
    "  A built-in data type in Python that stores an ordered collection of elements.  \n",
    "  When used like `list(map(...))`, it converts the map object into a regular list.\n",
    "\n",
    "- **`map(function, iterable)`**  \n",
    "  Applies a given function to every item in an iterable (like a list or tuple).  \n",
    "  Returns a *map object* (an iterator), which can be turned into a list or looped through.\n",
    "\n",
    "- **`lambda`**  \n",
    "  A way to create small, anonymous functions in one line.  \n"
   ]
  },
  {
   "cell_type": "code",
   "execution_count": 42,
   "id": "ac6559df-183a-4b58-bcae-b057d38df746",
   "metadata": {
    "slideshow": {
     "slide_type": "fragment"
    }
   },
   "outputs": [
    {
     "name": "stdout",
     "output_type": "stream",
     "text": [
      "[1, 4, 9, 16]\n"
     ]
    }
   ],
   "source": [
    "# Apply a function to every element of a sequence.\n",
    "nums = [1, 2, 3, 4]\n",
    "squares = list(map(lambda x: x**2, nums))\n",
    "print(squares)\n"
   ]
  },
  {
   "cell_type": "markdown",
   "id": "6ea11b44",
   "metadata": {
    "slideshow": {
     "slide_type": "slide"
    }
   },
   "source": [
    "### Explanation of `filter()`\n",
    "\n",
    "- **`filter(function, iterable)`**  \n",
    "  Applies a function to each element of an iterable (like a list or tuple) and  \n",
    "  **keeps only the elements for which the function returns `True`**.  \n",
    "  It returns a *filter object* (an iterator), which can be converted into a list."
   ]
  },
  {
   "cell_type": "code",
   "execution_count": 1,
   "id": "152ce423",
   "metadata": {
    "slideshow": {
     "slide_type": "fragment"
    }
   },
   "outputs": [
    {
     "name": "stdout",
     "output_type": "stream",
     "text": [
      "[2, 4, 6]\n"
     ]
    }
   ],
   "source": [
    "# Keep only elements that satisfy a condition (function returning True/False).\n",
    "nums = [1, 2, 3, 4, 5, 6]\n",
    "evens = list(filter(lambda x: x % 2 == 0, nums))\n",
    "print(evens)"
   ]
  },
  {
   "cell_type": "code",
   "execution_count": 2,
   "id": "af121be4",
   "metadata": {
    "slideshow": {
     "slide_type": "subslide"
    }
   },
   "outputs": [
    {
     "name": "stdout",
     "output_type": "stream",
     "text": [
      "[25, 36, 49, 64, 81, 100]\n"
     ]
    }
   ],
   "source": [
    "# Suppose we want to take numbers from 1–10, square them, and keep only results greater than 20:\n",
    "nums = range(1, 11)\n",
    "result = list(filter(lambda x: x > 20, map(lambda x: x**2, nums)))\n",
    "print(result)\n"
   ]
  },
  {
   "cell_type": "markdown",
   "id": "02992df9",
   "metadata": {
    "slideshow": {
     "slide_type": "fragment"
    }
   },
   "source": [
    "Here:\n",
    "1. `map(lambda x: x**2, nums)` → squares numbers.  \n",
    "\n",
    "2. `filter(lambda x: x > 20, ...)` → keeps only those > 20.  \n"
   ]
  },
  {
   "cell_type": "markdown",
   "id": "d5bc35bf-5841-4476-9a89-48bd9f5d3eaa",
   "metadata": {
    "slideshow": {
     "slide_type": "subslide"
    }
   },
   "source": [
    "**Chemical Engineering Example:**  \n",
    "Apply Arrhenius equation for multiple temperatures.\n"
   ]
  },
  {
   "cell_type": "code",
   "execution_count": 16,
   "id": "4d204618",
   "metadata": {
    "slideshow": {
     "slide_type": "fragment"
    }
   },
   "outputs": [],
   "source": [
    "import math\n",
    "def arrhenius(A, Ea, R, T):\n",
    "    return A * math.exp(-Ea / (R*T))"
   ]
  },
  {
   "cell_type": "code",
   "execution_count": 17,
   "id": "20ee6757-fccc-4b17-a791-d862d395233c",
   "metadata": {
    "slideshow": {
     "slide_type": "fragment"
    }
   },
   "outputs": [
    {
     "name": "stdout",
     "output_type": "stream",
     "text": [
      "[1.1756000106220559e-07, 1.1487419956649154e-05, 0.0003570217595110907, 0.0051701886216247205]\n"
     ]
    }
   ],
   "source": [
    "temps = [300, 350, 400, 450]\n",
    "ks = list(map(lambda T: arrhenius(1e7, 80000, 8.314, T), temps))\n",
    "print(ks)\n"
   ]
  },
  {
   "cell_type": "markdown",
   "id": "21cc5648-5894-45c0-96a6-d9692e98d7c2",
   "metadata": {
    "slideshow": {
     "slide_type": "slide"
    }
   },
   "source": [
    "## 4.18 Intro to Data Science: Measures of Dispersion\n",
    "We can analyze spread of process data using mean, variance, standard deviation.\n"
   ]
  },
  {
   "cell_type": "markdown",
   "id": "5eea61b4",
   "metadata": {
    "slideshow": {
     "slide_type": "fragment"
    }
   },
   "source": [
    "# Measures of Dispersion\n",
    "\n",
    "**Mean:**\n",
    "\n",
    "$$\n",
    "\\bar{x} = \\frac{1}{n} \\sum_{i=1}^{n} x_i\n",
    "$$\n",
    "\n",
    "**Variance (Population Variance):**\n",
    "\n",
    "$$\n",
    "\\sigma^2 = \\frac{1}{n} \\sum_{i=1}^{n} (x_i - \\bar{x})^2\n",
    "$$\n",
    "\n",
    "**Standard Deviation:**\n",
    "\n",
    "$$\n",
    "\\sigma = \\sqrt{\\sigma^2}\n",
    "$$\n"
   ]
  },
  {
   "cell_type": "code",
   "execution_count": 27,
   "id": "3ffa9c21",
   "metadata": {
    "slideshow": {
     "slide_type": "subslide"
    }
   },
   "outputs": [
    {
     "name": "stdout",
     "output_type": "stream",
     "text": [
      "Mean: 3.5\n",
      "Variance Value 2.5\n",
      "Squared Diffs [6.25, 0.25, 0.25, 2.25, 6.25, 2.25, 0.25, 0.25, 2.25, 2.25]\n",
      "Variance (manual): 2.5\n"
     ]
    }
   ],
   "source": [
    "import statistics\n",
    "\n",
    "data = [1, 3, 4, 2, 6, 5, 3, 4, 5, 2]\n",
    "\n",
    "# Mean\n",
    "mean_value = statistics.mean(data)\n",
    "variance_value = statistics.variance(data)\n",
    "\n",
    "# Variance (manual approach)\n",
    "squared_diffs = [(x - mean_value) ** 2 for x in data]\n",
    "variance = sum(squared_diffs) / (len(data) - 1)\n",
    "\n",
    "\n",
    "print(\"Mean:\", mean_value)\n",
    "print(\"Variance Value\", variance_value)\n",
    "print(\"Squared Diffs\", squared_diffs)\n",
    "print(\"Variance (manual):\", variance)\n"
   ]
  },
  {
   "cell_type": "code",
   "execution_count": 72,
   "id": "ce2ad482-1c1d-4eda-bb11-a57d665f05fd",
   "metadata": {
    "slideshow": {
     "slide_type": "fragment"
    }
   },
   "outputs": [
    {
     "name": "stdout",
     "output_type": "stream",
     "text": [
      "Variance (statistics.pvariance): 2.25\n",
      "Standard Deviation (statistics.pstdev): 1.5\n"
     ]
    }
   ],
   "source": [
    "import statistics\n",
    "\n",
    "# Population variance\n",
    "print(\"Variance (statistics.pvariance):\", statistics.pvariance(data))\n",
    "\n",
    "# Population standard deviation\n",
    "print(\"Standard Deviation (statistics.pstdev):\", statistics.pstdev(data))\n",
    "\n"
   ]
  },
  {
   "cell_type": "code",
   "execution_count": 75,
   "id": "6f296f69",
   "metadata": {
    "slideshow": {
     "slide_type": "subslide"
    }
   },
   "outputs": [
    {
     "data": {
      "image/png": "[encoded data removed]",
      "text/plain": [
       "<Figure size 800x500 with 1 Axes>"
      ]
     },
     "metadata": {},
     "output_type": "display_data"
    }
   ],
   "source": [
    "import matplotlib.pyplot as plt\n",
    "\n",
    "# Plot data points\n",
    "plt.figure(figsize=(8, 5))\n",
    "plt.scatter(range(len(data)), data, color=\"blue\", label=\"Data points\")\n",
    "\n",
    "# Plot mean line\n",
    "plt.axhline(mean_value, color=\"red\", linestyle=\"--\", label=f\"Mean = {mean_value}\")\n",
    "\n",
    "# Draw deviation lines\n",
    "for i, val in enumerate(data):\n",
    "    plt.plot([i, i], [mean_value, val], color=\"gray\", linestyle=\":\")\n",
    "\n",
    "plt.title(\"Data Spread Around the Mean\")\n",
    "plt.xlabel(\"Index\")\n",
    "plt.ylabel(\"Value\")\n",
    "plt.legend()\n",
    "plt.show()\n"
   ]
  },
  {
   "cell_type": "markdown",
   "id": "fbb0f9e3",
   "metadata": {
    "slideshow": {
     "slide_type": "subslide"
    }
   },
   "source": [
    "### Visualizing Data Spread Around the Mean\n",
    "\n",
    "This plot helps illustrate how each data point deviates from the mean value.\n",
    "\n",
    "- **`plt.scatter()`** plots the individual data points.  \n",
    "- **`plt.axhline()`** draws a horizontal dashed line at the mean to show the central tendency.  \n",
    "- The gray **vertical lines** represent the deviation of each data point from the mean.  \n",
    "- Labels, title, and legend are added to make the plot more readable.\n",
    "\n",
    "The resulting chart visually shows how data points are distributed around the mean and how far each point deviates from it.\n"
   ]
  },
  {
   "cell_type": "markdown",
   "id": "4741bb8e-d9c6-4f0c-a8da-8e9d5d9d3998",
   "metadata": {
    "slideshow": {
     "slide_type": "subslide"
    }
   },
   "source": [
    "**Chemical Engineering Example:**  \n",
    "Analyze fluctuation of reactor temperature readings.\n"
   ]
  },
  {
   "cell_type": "code",
   "execution_count": 37,
   "id": "3baba90f-0c3a-4831-8650-0ef4987dd37e",
   "metadata": {
    "slideshow": {
     "slide_type": "fragment"
    }
   },
   "outputs": [
    {
     "name": "stdout",
     "output_type": "stream",
     "text": [
      "Minimum Temperature 498\n",
      "Maximum Temperature 507\n",
      "Mean: 502\n",
      "Stdev: 3.265986323710904\n"
     ]
    }
   ],
   "source": [
    "reactor_temps = [500, 505, 498, 502, 507, 503, 499]\n",
    "\n",
    "print(\"Minimum Temperature\", min(reactor_temps))\n",
    "print(\"Maximum Temperature\", max(reactor_temps))\n",
    "print(\"Mean:\", stats.mean(reactor_temps))\n",
    "print(\"Stdev:\", stats.stdev(reactor_temps))\n"
   ]
  },
  {
   "cell_type": "markdown",
   "id": "932f6637-7ee4-43f3-a1b6-62113f50d663",
   "metadata": {
    "slideshow": {
     "slide_type": "slide"
    }
   },
   "source": [
    "## 4.19 Wrap-Up\n",
    "- Functions make code reusable and modular\n",
    "- Parameters, defaults, and scope are key\n",
    "- Randomness and math modules help with simulations\n",
    "- Functions are essential in modeling chemical engineering problems\n"
   ]
  },
  {
   "cell_type": "markdown",
   "id": "da381fb5-ab73-4922-82df-7468641fa724",
   "metadata": {
    "slideshow": {
     "slide_type": "slide"
    }
   },
   "source": [
    "## Activity 1: Reynolds Number Function\n",
    "\n",
    "Write a Python function to calculate the **Reynolds number**:\n",
    "\n",
    "$$\n",
    "Re = \\frac{\\rho u D}{\\mu}\n",
    "$$\n",
    "\n",
    "- Your function should accept four arguments:  \n",
    "  - ρ (density, kg/m³)  \n",
    "  - u (velocity, m/s)  \n",
    "  - D (pipe diameter, m)  \n",
    "  - μ (viscosity, Pa·s)  \n",
    "\n",
    "**Tasks:**\n",
    "1. Compute the Reynolds number for:\n",
    "   - Water at 25°C: ρ = 1000, μ = 0.001 Pa·s, u = 1.5 m/s, D = 0.05 m  \n",
    "   - Air at 25°C: ρ = 1.2, μ = 1.8e-5 Pa·s, u = 2.0 m/s, D = 0.1 m  \n",
    "2. Based on your results, classify the flow as **Laminar (Re < 2100)** or **Turbulent (Re > 4000)**.\n"
   ]
  },
  {
   "cell_type": "markdown",
   "id": "e790911b-84e3-48a4-b904-a6023aa5a963",
   "metadata": {
    "slideshow": {
     "slide_type": "slide"
    }
   },
   "source": [
    "## Activity 2: Monte Carlo Simulation of Reaction Yield\n",
    "\n",
    "A catalytic reaction has an **average yield of 85%**, but due to catalyst activity variations, the yield can fluctuate by ±5%.  \n",
    "\n",
    "**Tasks:**\n",
    "1. Write a function `reaction_yield(base_yield, variation)` that returns a random yield between:\n",
    "   $$\n",
    "   base\\_yield \\times (1 - variation) \\quad \\text{and} \\quad base\\_yield \\times (1 + variation)\n",
    "   $$\n",
    "2. Run the simulation **100 times** and store the results in a list.\n",
    "3. Calculate:\n",
    "   - The **mean yield**  \n",
    "   - The **standard deviation of yield**  \n",
    "4. Plot a **histogram** of the simulated yields.  \n",
    "   - Hint: Use `matplotlib.pyplot.hist`.\n"
   ]
  }
 ],
 "metadata": {
  "celltoolbar": "Slideshow",
  "kernelspec": {
   "display_name": "Python 3 (ipykernel)",
   "language": "python",
   "name": "python3"
  },
  "language_info": {
   "codemirror_mode": {
    "name": "ipython",
    "version": 3
   },
   "file_extension": ".py",
   "mimetype": "text/x-python",
   "name": "python",
   "nbconvert_exporter": "python",
   "pygments_lexer": "ipython3",
   "version": "3.13.0"
  }
 },
 "nbformat": 4,
 "nbformat_minor": 5
}
