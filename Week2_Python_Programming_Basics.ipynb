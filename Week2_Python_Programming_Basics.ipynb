{
 "cells": [
  {
   "cell_type": "markdown",
   "id": "6a8ea30e-553b-4149-a2a4-b2821daccc26",
   "metadata": {
    "slideshow": {
     "slide_type": "slide"
    }
   },
   "source": [
    "# Week 2 — Python Programming Basics for Chemical Engineers\n",
    "**Topics:** variables, assignment, arithmetic operators, `print()`, strings, user input\n",
    "\n",
    "**Learning objectives**\n",
    "- Explain what a *variable* is and how assignment works in Python.\n",
    "- Perform arithmetic with Python and interpret operator precedence.\n",
    "- Format readable results with `print()`.\n",
    "- Manipulate simple text (strings).\n",
    "- Read user input and convert it to numbers.\n",
    "- Apply the above to **chemical engineering** mini-problems (density, ideal-gas law, mole fractions).\n",
    "\n",
    "> Tip: Run a cell with **Shift + Enter**.\n"
   ]
  },
  {
   "cell_type": "markdown",
   "id": "9fe04f68-86f8-4a12-b57c-c1fdebf22098",
   "metadata": {
    "slideshow": {
     "slide_type": "slide"
    }
   },
   "source": [
    "## Why Python for Chemical Engineering?\n",
    "- Plants and labs generate **time-series data** (T, P, flow, composition).\n",
    "- Python lets us **store**, **analyze**, and **visualize** data repeatably.\n",
    "- Today we’ll connect the basics to small ChemEng problems.\n"
   ]
  },
  {
   "cell_type": "code",
   "execution_count": 1,
   "id": "174fc9cf-7f01-4619-9260-ee95fbf38f6e",
   "metadata": {
    "slideshow": {
     "slide_type": "fragment"
    }
   },
   "outputs": [
    {
     "name": "stdout",
     "output_type": "stream",
     "text": [
      "Python: 3.13.0\n"
     ]
    }
   ],
   "source": [
    "# Always good to know your Python version\n",
    "import sys\n",
    "print(\"Python:\", sys.version.split()[0])\n"
   ]
  },
  {
   "cell_type": "markdown",
   "id": "90064a85-f4ee-42ca-8d29-beb45e020196",
   "metadata": {
    "slideshow": {
     "slide_type": "slide"
    }
   },
   "source": [
    "## 1) Variables & Assignment\n",
    "A **variable** is a name that stores a value in memory.\n",
    "\n",
    "- Use `=` to assign.\n",
    "- Names should be descriptive: `temperature_K`, `mass_kg`.\n",
    "\n",
    "We’ll store some simple process values.\n"
   ]
  },
  {
   "cell_type": "code",
   "execution_count": 2,
   "id": "f9ddffdf-3cbd-4410-91e0-08aa6eae43c8",
   "metadata": {
    "slideshow": {
     "slide_type": "subslide"
    }
   },
   "outputs": [
    {
     "name": "stdout",
     "output_type": "stream",
     "text": [
      "350.0 5.0 2.5\n"
     ]
    }
   ],
   "source": [
    "# Variables for a stream\n",
    "temperature_K = 350.0    # Kelvin\n",
    "pressure_bar = 5.0       # bar\n",
    "flow_mol_s = 2.5         # mol/s\n",
    "\n",
    "print(temperature_K, pressure_bar, flow_mol_s)\n"
   ]
  },
  {
   "cell_type": "markdown",
   "id": "9e7d4814-942e-4ff4-be03-c12ba013056c",
   "metadata": {
    "slideshow": {
     "slide_type": "fragment"
    }
   },
   "source": [
    "### Quick Check\n",
    "- Reassign a variable: `temperature_K = 365.0`\n",
    "- Variables are case-sensitive: `Flow_mol_s` ≠ `flow_mol_s`\n"
   ]
  },
  {
   "cell_type": "code",
   "execution_count": 3,
   "id": "a6826b2b-451e-4373-ad7a-d7bbf81c905f",
   "metadata": {
    "slideshow": {
     "slide_type": "slide"
    }
   },
   "outputs": [
    {
     "name": "stdout",
     "output_type": "stream",
     "text": [
      "V = 1.2 m^3; m = 500.0 kg\n",
      "Updated mass = 520.0 kg\n"
     ]
    }
   ],
   "source": [
    "# Activity A1:\n",
    "# 1) Create variables: reactor_volume_m3, mass_kg\n",
    "# 2) Print them on one line.\n",
    "# 3) Reassign mass_kg to a new value and print again.\n",
    "\n",
    "reactor_volume_m3 = 1.2\n",
    "mass_kg = 500.0\n",
    "\n",
    "print(\"V =\", reactor_volume_m3, \"m^3; m =\", mass_kg, \"kg\")\n",
    "\n",
    "mass_kg = 520.0\n",
    "print(\"Updated mass =\", mass_kg, \"kg\")\n"
   ]
  },
  {
   "cell_type": "markdown",
   "id": "e92a27ba-5f6c-487b-9a85-50678dd3268f",
   "metadata": {
    "slideshow": {
     "slide_type": "slide"
    }
   },
   "source": [
    "## 2) Arithmetic Operators & Precedence\n",
    "- `+`, `-`, `*`, `/`, `**` (power), `%` (mod)\n",
    "- Precedence: `**` → `*` `/` → `+` `-` (use parentheses to be explicit)\n",
    "\n",
    "**ChemEng focus:** quick property and balance calculations.\n"
   ]
  },
  {
   "cell_type": "code",
   "execution_count": 4,
   "id": "714d3e9c-029b-4ddb-920b-c0425372799a",
   "metadata": {
    "slideshow": {
     "slide_type": "subslide"
    }
   },
   "outputs": [
    {
     "name": "stdout",
     "output_type": "stream",
     "text": [
      "7 3 10 2.5 25\n",
      "11\n",
      "16\n"
     ]
    }
   ],
   "source": [
    "# Basic arithmetic\n",
    "a = 5\n",
    "b = 2\n",
    "print(a + b, a - b, a * b, a / b, a ** b)\n",
    "\n",
    "# Parentheses matter\n",
    "print(5 + 3 * 2)     # 11\n",
    "print((5 + 3) * 2)   # 16\n"
   ]
  },
  {
   "cell_type": "code",
   "execution_count": 5,
   "id": "3bcb1504-3af7-4316-9ca8-4a4a905fd9eb",
   "metadata": {
    "slideshow": {
     "slide_type": "subslide"
    }
   },
   "outputs": [
    {
     "name": "stdout",
     "output_type": "stream",
     "text": [
      "Density = 769.2307692307692 kg/m^3\n"
     ]
    }
   ],
   "source": [
    "# Example: Density\n",
    "# ρ = m / V\n",
    "mass_kg = 500.0\n",
    "volume_m3 = 0.65\n",
    "rho = mass_kg / volume_m3\n",
    "print(\"Density =\", rho, \"kg/m^3\")\n"
   ]
  },
  {
   "cell_type": "code",
   "execution_count": 6,
   "id": "6c207855-6878-466b-9580-a479b71d5c84",
   "metadata": {
    "slideshow": {
     "slide_type": "subslide"
    }
   },
   "outputs": [
    {
     "name": "stdout",
     "output_type": "stream",
     "text": [
      "Celsius: 80.0 -> Kelvin: 353.15 -> Fahrenheit: 176.0\n"
     ]
    }
   ],
   "source": [
    "# Example: Temperature Conversions\n",
    "# T(K) = T(°C) + 273.15 ; T(°F) = T(°C) * 9/5 + 32\n",
    "T_C = 80.0\n",
    "T_K = T_C + 273.15\n",
    "T_F = T_C * 9/5 + 32\n",
    "print(\"Celsius:\", T_C, \"-> Kelvin:\", T_K, \"-> Fahrenheit:\", T_F)\n"
   ]
  },
  {
   "cell_type": "code",
   "execution_count": 7,
   "id": "501dd03a-fa26-4430-83a5-e9ad24ddca43",
   "metadata": {
    "slideshow": {
     "slide_type": "subslide"
    }
   },
   "outputs": [
    {
     "name": "stdout",
     "output_type": "stream",
     "text": [
      "Moles of gas = 400.9301579664822 mol\n"
     ]
    }
   ],
   "source": [
    "# Example: Ideal Gas Law\n",
    "# PV = nRT  ->  n = PV / (RT)\n",
    "P_bar = 5.0\n",
    "V_m3  = 2.0\n",
    "T_K   = 300.0\n",
    "R_barL = 0.08314  # bar·L/(mol·K)\n",
    "\n",
    "V_L = V_m3 * 1000.0\n",
    "n_mol = (P_bar * V_L) / (R_barL * T_K)\n",
    "print(\"Moles of gas =\", n_mol, \"mol\")\n"
   ]
  },
  {
   "cell_type": "markdown",
   "id": "8121ffe1-f304-4a1f-a348-3855a5350bf2",
   "metadata": {
    "slideshow": {
     "slide_type": "slide"
    }
   },
   "source": [
    "### Activity A2: Energy Balance Snippet (6–8 min)\n",
    "Assume constant heat capacity `Cp` and a temperature rise ΔT.\n",
    "\n",
    "1. Given `Cp = 4.18 kJ/(kg·K)`, `m = 2.0 kg`, `ΔT = 15 K`, compute `Q = m·Cp·ΔT`.\n",
    "2. Convert `Q` to **Joules**.\n",
    "3. Print a nice, readable line with units.\n"
   ]
  },
  {
   "cell_type": "code",
   "execution_count": 8,
   "id": "9671e69f-bd01-431e-88e8-6f3b4fabbff5",
   "metadata": {
    "slideshow": {
     "slide_type": "fragment"
    }
   },
   "outputs": [
    {
     "name": "stdout",
     "output_type": "stream",
     "text": [
      "Heat added Q = 125.40 kJ (125400 J)\n"
     ]
    }
   ],
   "source": [
    "Cp_kJ_per_kgK = 4.18\n",
    "m_kg = 2.0\n",
    "dT_K = 15.0\n",
    "\n",
    "Q_kJ = m_kg * Cp_kJ_per_kgK * dT_K\n",
    "Q_J = Q_kJ * 1000.0\n",
    "print(f\"Heat added Q = {Q_kJ:.2f} kJ ({Q_J:.0f} J)\")\n"
   ]
  },
  {
   "cell_type": "markdown",
   "id": "ebccf60b-6acf-4040-9213-20e38838baef",
   "metadata": {
    "slideshow": {
     "slide_type": "slide"
    }
   },
   "source": [
    "## 3) `print()` and String Formatting\n",
    "- `print(value1, value2, ...)`\n",
    "- f-strings: `f\"Density = {rho:.1f} kg/m^3\"` (format numbers nicely)\n",
    "- `\\n` for new line, `\\t` for tab\n"
   ]
  },
  {
   "cell_type": "code",
   "execution_count": 9,
   "id": "10963642-6c27-4439-a3d2-c5b9db0a9a0e",
   "metadata": {
    "slideshow": {
     "slide_type": "fragment"
    }
   },
   "outputs": [
    {
     "name": "stdout",
     "output_type": "stream",
     "text": [
      "Density = 769.230769 kg/m^3\n",
      "Density = 769.23 kg/m^3\n",
      "Component: Benzene\n",
      "MW: 78.11 g/mol\n"
     ]
    }
   ],
   "source": [
    "rho = 769.230769\n",
    "print(\"Density =\", rho, \"kg/m^3\")      # simple\n",
    "print(f\"Density = {rho:.2f} kg/m^3\")   # formatted to 2 decimals\n",
    "\n",
    "# Multi-line print\n",
    "name = \"Benzene\"\n",
    "mw = 78.11\n",
    "print(f\"Component: {name}\\nMW: {mw} g/mol\")\n"
   ]
  },
  {
   "cell_type": "markdown",
   "id": "d09cd38f-aa3d-4b08-85ff-1c3aeb272ae5",
   "metadata": {
    "slideshow": {
     "slide_type": "slide"
    }
   },
   "source": [
    "## 4) Strings (text)\n",
    "- Strings are quoted text: `\"Water\"`, `'Reactor-1'`\n",
    "- You can **concatenate** strings with `+` or f-strings.\n",
    "- Useful for labels, filenames, short reports.\n"
   ]
  },
  {
   "cell_type": "code",
   "execution_count": 10,
   "id": "b7a613aa-c8a7-4c51-a296-79669d16da23",
   "metadata": {
    "slideshow": {
     "slide_type": "fragment"
    }
   },
   "outputs": [
    {
     "name": "stdout",
     "output_type": "stream",
     "text": [
      "Mixture: Benzene + Phenol\n",
      "Mixture: Benzene + Phenol\n",
      "Mixture: Benzene + Phenol\n",
      "Mixture: Benzene + Phenol\n"
     ]
    }
   ],
   "source": [
    "comp1 = \"Benzene\"\n",
    "comp2 = \"Phenol\"\n",
    "print(\"Mixture:\", comp1, \"+\", comp2)\n",
    "print(\"Mixture:\", comp1 + \" + \" + comp2)\n",
    "print(\"Mixture: \" + comp1 + \" + \" + comp2)\n",
    "print(f\"Mixture: {comp1} + {comp2}\")"
   ]
  },
  {
   "cell_type": "code",
   "execution_count": 11,
   "id": "93b9ae2a-8bcc-4f68-be9c-40c77cc8b4a5",
   "metadata": {
    "slideshow": {
     "slide_type": "subslide"
    }
   },
   "outputs": [
    {
     "name": "stdout",
     "output_type": "stream",
     "text": [
      "[Feed-1] T=360.0 K, P=3.2 bar\n"
     ]
    }
   ],
   "source": [
    "# Example: Small report line\n",
    "stream_id = \"Feed-1\"\n",
    "T_K = 360.0\n",
    "P_bar = 3.2\n",
    "report = f\"[{stream_id}] T={T_K:.1f} K, P={P_bar:.1f} bar\"\n",
    "print(report)\n"
   ]
  },
  {
   "cell_type": "markdown",
   "id": "47d996b0-0654-40d6-b744-8bca216483be",
   "metadata": {
    "slideshow": {
     "slide_type": "slide"
    }
   },
   "source": [
    "### Activity A3: Mini “property line” (5–6 min)\n",
    "Create variables for a stream:\n",
    "\n",
    "- `name`, `T_K`, `P_bar`, `flow_mol_s`\n",
    "- Print a **single line**: `[name] T=?, P=?, flow=?` with 1 decimal place for numbers.\n"
   ]
  },
  {
   "cell_type": "code",
   "execution_count": 12,
   "id": "230fa85e-726f-4dde-bf01-a4fd8071dea0",
   "metadata": {
    "slideshow": {
     "slide_type": "fragment"
    }
   },
   "outputs": [
    {
     "name": "stdout",
     "output_type": "stream",
     "text": [
      "[Vapor-2] T=402.3 K, P=1.8 bar, flow=4.2 mol/s\n"
     ]
    }
   ],
   "source": [
    "# Possible Solution\n",
    "name = \"Vapor-2\"\n",
    "T_K = 402.3\n",
    "P_bar = 1.78\n",
    "flow_mol_s = 4.25\n",
    "print(f\"[{name}] T={T_K:.1f} K, P={P_bar:.1f} bar, flow={flow_mol_s:.1f} mol/s\")\n"
   ]
  },
  {
   "cell_type": "markdown",
   "id": "67a5b36d-5da5-4a3f-a07f-f870bc68dd02",
   "metadata": {
    "slideshow": {
     "slide_type": "slide"
    }
   },
   "source": [
    "## 5) User Input\n",
    "Use `input()` to read text from the user. Convert to numbers with `float()` or `int()`.\n"
   ]
  },
  {
   "cell_type": "code",
   "execution_count": 13,
   "id": "15f776e3-3d34-4462-870c-119b38d9dc8d",
   "metadata": {
    "slideshow": {
     "slide_type": "fragment"
    }
   },
   "outputs": [
    {
     "name": "stdout",
     "output_type": "stream",
     "text": [
      "Stream S1 has flow 20.25 mol/s.\n"
     ]
    }
   ],
   "source": [
    "name = \"S1\"\n",
    "flow_mol_s = float(20.252)\n",
    "print(f\"Stream {name} has flow {flow_mol_s:.2f} mol/s.\")\n"
   ]
  },
  {
   "cell_type": "code",
   "execution_count": 14,
   "id": "9344e96b-c752-429b-80fd-7f6d0d56bb7d",
   "metadata": {
    "slideshow": {
     "slide_type": "fragment"
    }
   },
   "outputs": [
    {
     "name": "stdout",
     "output_type": "stream",
     "text": [
      "Enter stream name: S1\n",
      "Enter flow (mol/s): 20.222\n",
      "Stream S1 has flow 20.22 mol/s.\n"
     ]
    }
   ],
   "source": [
    "name = input(\"Enter stream name: \")\n",
    "flow_mol_s = float(input(\"Enter flow (mol/s): \"))\n",
    "print(f\"Stream {name} has flow {flow_mol_s:.2f} mol/s.\")\n"
   ]
  },
  {
   "cell_type": "markdown",
   "id": "a482f30d-6935-48f8-b14f-1c7e0473a14b",
   "metadata": {
    "slideshow": {
     "slide_type": "slide"
    }
   },
   "source": [
    "**ChemEng Example** \n",
    "*Mole fraction from user input*"
   ]
  },
  {
   "cell_type": "code",
   "execution_count": 15,
   "id": "523a6bf7-1070-443b-9f2b-c57b494c76fe",
   "metadata": {
    "slideshow": {
     "slide_type": "fragment"
    }
   },
   "outputs": [
    {
     "name": "stdout",
     "output_type": "stream",
     "text": [
      "n_A = 2.000 mol, n_B = 2.000 mol, total = 4.000 mol\n",
      "Mole fractions: x_A = 0.500, x_B = 0.500\n"
     ]
    }
   ],
   "source": [
    "# Ask for masses and compute mole fractions for a binary mixture\n",
    "# A: water (MW 18), B: ethanol (MW 46) as simple example\n",
    "\n",
    "# For live demo, uncomment the input() lines.\n",
    "# mass_A = float(input(\"Enter mass of component A (g): \"))\n",
    "# mass_B = float(input(\"Enter mass of component B (g): \"))\n",
    "\n",
    "# For notebook testing without typing:\n",
    "mass_A = 36.0  # g\n",
    "mass_B = 92.0  # g\n",
    "\n",
    "MW_A = 18.0\n",
    "MW_B = 46.0\n",
    "\n",
    "n_A = mass_A / MW_A\n",
    "n_B = mass_B / MW_B\n",
    "total = n_A + n_B\n",
    "x_A = n_A / total\n",
    "x_B = n_B / total\n",
    "\n",
    "print(f\"n_A = {n_A:.3f} mol, n_B = {n_B:.3f} mol, total = {total:.3f} mol\")\n",
    "print(f\"Mole fractions: x_A = {x_A:.3f}, x_B = {x_B:.3f}\")\n"
   ]
  },
  {
   "cell_type": "code",
   "execution_count": 16,
   "id": "51c470a0-0e73-4c3b-8e45-331d56dccd9b",
   "metadata": {
    "slideshow": {
     "slide_type": "subslide"
    }
   },
   "outputs": [
    {
     "name": "stdout",
     "output_type": "stream",
     "text": [
      "Enter mass of component A (g): 20\n",
      "Enter mass of component B (g): 50\n",
      "n_A = 1.111 mol, n_B = 1.087 mol, total = 2.198 mol\n",
      "Mole fractions: x_A = 0.505, x_B = 0.495\n"
     ]
    }
   ],
   "source": [
    "mass_A = float(input(\"Enter mass of component A (g): \"))\n",
    "mass_B = float(input(\"Enter mass of component B (g): \"))\n",
    "\n",
    "\n",
    "MW_A = 18.0\n",
    "MW_B = 46.0\n",
    "\n",
    "n_A = mass_A / MW_A\n",
    "n_B = mass_B / MW_B\n",
    "total = n_A + n_B\n",
    "x_A = n_A / total\n",
    "x_B = n_B / total\n",
    "\n",
    "print(f\"n_A = {n_A:.3f} mol, n_B = {n_B:.3f} mol, total = {total:.3f} mol\")\n",
    "print(f\"Mole fractions: x_A = {x_A:.3f}, x_B = {x_B:.3f}\")\n"
   ]
  },
  {
   "cell_type": "markdown",
   "id": "6b1cbea1-1464-4117-8bc5-f006a9c65de0",
   "metadata": {
    "slideshow": {
     "slide_type": "slide"
    }
   },
   "source": [
    "### Activity A4: Density from User Input (6–8 min)\n",
    "1. Prompt the user for `mass_kg` and `volume_m3`.\n",
    "2. Compute `rho = m / V`.\n",
    "3. Print **with units** and **2 decimals**.\n"
   ]
  },
  {
   "cell_type": "code",
   "execution_count": 17,
   "id": "cb4cd171-7e25-415d-bd1f-d044ab4ce38b",
   "metadata": {
    "slideshow": {
     "slide_type": "fragment"
    }
   },
   "outputs": [
    {
     "name": "stdout",
     "output_type": "stream",
     "text": [
      "Density = 520.83 kg/m^3\n"
     ]
    }
   ],
   "source": [
    "mass_kg = 250.0\n",
    "volume_m3 = 0.48\n",
    "\n",
    "rho = mass_kg / volume_m3\n",
    "print(f\"Density = {rho:.2f} kg/m^3\")\n"
   ]
  },
  {
   "cell_type": "code",
   "execution_count": 18,
   "id": "a8735e10-4f70-4518-a4c8-7e84408a255f",
   "metadata": {
    "slideshow": {
     "slide_type": "fragment"
    }
   },
   "outputs": [
    {
     "name": "stdout",
     "output_type": "stream",
     "text": [
      "Mass (kg): 250\n",
      "Volume (m^3): 0.48\n",
      "Density = 520.83 kg/m^3\n"
     ]
    }
   ],
   "source": [
    "mass_kg = float(input(\"Mass (kg): \"))\n",
    "volume_m3 = float(input(\"Volume (m^3): \"))\n",
    "\n",
    "rho = mass_kg / volume_m3\n",
    "print(f\"Density = {rho:.2f} kg/m^3\")\n"
   ]
  },
  {
   "cell_type": "markdown",
   "id": "a0df7f88-fa2a-48c1-86e7-9a636492c1f1",
   "metadata": {
    "slideshow": {
     "slide_type": "slide"
    }
   },
   "source": [
    "## 6) Putting It Together — Mini Case\n",
    "**Calculate gas moles** for a vessel and print a short report line.\n",
    "\n",
    "Inputs:\n",
    "- `P_bar`, `V_m3`, `T_K`, `R = 0.08314 bar·L/(mol·K)`\n",
    "\n",
    "Tasks:\n",
    "1. Convert `V_m3` to liters.\n",
    "2. Compute `n = PV / (RT)`.\n",
    "3. Print: `\"[Vessel-1] n = ? mol at P=?, T=?\"`\n"
   ]
  },
  {
   "cell_type": "code",
   "execution_count": 19,
   "id": "345761ac-951e-4fe4-9791-15d90165c5c7",
   "metadata": {
    "slideshow": {
     "slide_type": "subslide"
    }
   },
   "outputs": [
    {
     "name": "stdout",
     "output_type": "stream",
     "text": [
      "[Vessel-1] n = 75.17 mol at P=2.50 bar, T=320.0 K\n"
     ]
    }
   ],
   "source": [
    "P_bar = 2.5\n",
    "V_m3  = 0.8\n",
    "T_K   = 320.0\n",
    "R_barL = 0.08314\n",
    "\n",
    "V_L = V_m3 * 1000.0\n",
    "n_mol = (P_bar * V_L) / (R_barL * T_K)\n",
    "\n",
    "print(f\"[Vessel-1] n = {n_mol:.2f} mol at P={P_bar:.2f} bar, T={T_K:.1f} K\")\n"
   ]
  },
  {
   "cell_type": "markdown",
   "id": "96ae51c8-1bd9-4b8d-8f0f-7a635292736b",
   "metadata": {
    "slideshow": {
     "slide_type": "slide"
    }
   },
   "source": [
    "## 7) Quick Knowledge Check (1–2 min)\n",
    "1. What does `=` do in Python?\n",
    "2. What does `**` do?\n",
    "3. How do you print to 2 decimal places with an f-string?\n",
    "4. How do you convert user text input to a float?\n"
   ]
  },
  {
   "cell_type": "markdown",
   "id": "40e2a233-a6cb-4333-af69-5b6e7687c9b7",
   "metadata": {
    "slideshow": {
     "slide_type": "slide"
    }
   },
   "source": [
    "## 8) Summary & Next Steps\n",
    "- Variables store numbers/text.\n",
    "- Arithmetic + units give quick engineering computations.\n",
    "- `print()` + f-strings make results readable.\n",
    "- `input()` lets you interact with users.\n",
    "- Next lecture: **logic (if/else)** and **loops** to automate repeated calculations.\n"
   ]
  }
 ],
 "metadata": {
  "celltoolbar": "Slideshow",
  "kernelspec": {
   "display_name": "Python 3 (ipykernel)",
   "language": "python",
   "name": "python3"
  },
  "language_info": {
   "codemirror_mode": {
    "name": "ipython",
    "version": 3
   },
   "file_extension": ".py",
   "mimetype": "text/x-python",
   "name": "python",
   "nbconvert_exporter": "python",
   "pygments_lexer": "ipython3",
   "version": "3.13.0"
  }
 },
 "nbformat": 4,
 "nbformat_minor": 5
}
