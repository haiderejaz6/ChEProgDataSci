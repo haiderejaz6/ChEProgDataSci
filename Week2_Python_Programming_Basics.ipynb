{
 "cells": [
  {
   "cell_type": "markdown",
   "id": "6a8ea30e-553b-4149-a2a4-b2821daccc26",
   "metadata": {
    "slideshow": {
     "slide_type": "slide"
    }
   },
   "source": [
    "# Week 2 — Python Programming Basics for Chemical Engineers\n",
    "**Topics:** variables, assignment, arithmetic operators, `print()`, strings, user input\n",
    "\n",
    "**Learning objectives**\n",
    "- Explain what a *variable* is and how assignment works in Python.\n",
    "- Perform arithmetic with Python and interpret operator precedence.\n",
    "- Format readable results with `print()`.\n",
    "- Manipulate simple text (strings).\n",
    "- Read user input and convert it to numbers.\n",
    "- Apply the above to **chemical engineering** mini-problems (density, ideal-gas law, mole fractions).\n",
    "\n",
    "> Tip: Run a cell with **Shift + Enter**.\n"
   ]
  },
  {
   "cell_type": "markdown",
   "id": "5ee9cafd",
   "metadata": {
    "slideshow": {
     "slide_type": "slide"
    }
   },
   "source": [
    "<div align=\"center\">\n",
    "\n",
    "### **Python Basics**\n",
    "\n",
    "</div>"
   ]
  },
  {
   "cell_type": "markdown",
   "id": "a5e707b4",
   "metadata": {
    "slideshow": {
     "slide_type": "subslide"
    }
   },
   "source": [
    "**Variable Types**"
   ]
  },
  {
   "cell_type": "code",
   "execution_count": 3,
   "id": "3e208253-60c6-4213-8e00-114b0627fb49",
   "metadata": {
    "slideshow": {
     "slide_type": "fragment"
    }
   },
   "outputs": [
    {
     "name": "stdout",
     "output_type": "stream",
     "text": [
      "Variable   Type    Data/Info\n",
      "----------------------------\n",
      "x          int     1\n",
      "y          str     string\n"
     ]
    }
   ],
   "source": [
    "# Numeric variable\n",
    "x = 1\n",
    "\n",
    "# String variable\n",
    "y = \"string\"\n",
    "\n",
    "# Listing variable and their types\n",
    "%whos"
   ]
  },
  {
   "cell_type": "markdown",
   "id": "c1510981",
   "metadata": {
    "slideshow": {
     "slide_type": "subslide"
    }
   },
   "source": [
    "**Variable Assignment**"
   ]
  },
  {
   "cell_type": "code",
   "execution_count": 1,
   "id": "1fa1d5a2-0861-4201-8554-6cfd995619cf",
   "metadata": {
    "slideshow": {
     "slide_type": "fragment"
    }
   },
   "outputs": [
    {
     "ename": "NameError",
     "evalue": "name 'b' is not defined",
     "output_type": "error",
     "traceback": [
      "\u001b[31m---------------------------------------------------------------------------\u001b[39m",
      "\u001b[31mNameError\u001b[39m                                 Traceback (most recent call last)",
      "\u001b[36mCell\u001b[39m\u001b[36m \u001b[39m\u001b[32mIn[1]\u001b[39m\u001b[32m, line 5\u001b[39m\n\u001b[32m      2\u001b[39m a = \u001b[32m4\u001b[39m  \n\u001b[32m      4\u001b[39m \u001b[38;5;66;03m# Trying to assign a variable 'b' that is not defined will cause an error\u001b[39;00m\n\u001b[32m----> \u001b[39m\u001b[32m5\u001b[39m a = \u001b[43mb\u001b[49m   \u001b[38;5;66;03m# ❌ NameError: name 'b' is not defined\u001b[39;00m\n",
      "\u001b[31mNameError\u001b[39m: name 'b' is not defined"
     ]
    }
   ],
   "source": [
    "# Assigning a value to a variable\n",
    "a = 4  \n",
    "\n",
    "# Trying to assign a variable 'b' that is not defined will cause an error\n",
    "a = b   # ❌ NameError: name 'b' is not defined\n"
   ]
  },
  {
   "cell_type": "markdown",
   "id": "5c6431a5",
   "metadata": {
    "slideshow": {
     "slide_type": "subslide"
    }
   },
   "source": [
    "**Multiple Assignment**"
   ]
  },
  {
   "cell_type": "code",
   "execution_count": 2,
   "id": "d660a7eb-1ce2-4828-a3eb-604a48caba09",
   "metadata": {
    "slideshow": {
     "slide_type": "fragment"
    }
   },
   "outputs": [
    {
     "name": "stdout",
     "output_type": "stream",
     "text": [
      "8\n",
      "8\n"
     ]
    }
   ],
   "source": [
    "# Assigning the same value to multiple variables in one line\n",
    "u = v = 8\n",
    "print(u)  # 8\n",
    "print(v)  # 8"
   ]
  },
  {
   "cell_type": "markdown",
   "id": "3586bf48",
   "metadata": {
    "slideshow": {
     "slide_type": "subslide"
    }
   },
   "source": [
    "**Strings and Type Conversion**"
   ]
  },
  {
   "cell_type": "code",
   "execution_count": 3,
   "id": "bcafe2ff-b9a7-4a73-b74d-967db0b64827",
   "metadata": {
    "slideshow": {
     "slide_type": "fragment"
    }
   },
   "outputs": [
    {
     "name": "stdout",
     "output_type": "stream",
     "text": [
      "<class 'str'>\n",
      "<class 'int'>\n"
     ]
    }
   ],
   "source": [
    "# A variable holding a string\n",
    "var = '5'\n",
    "print(type(var))   # <class 'str'>\n",
    "\n",
    "# Converting string to integer\n",
    "str_var_int = int(var)\n",
    "print(type(str_var_int))   # <class 'int'>"
   ]
  },
  {
   "cell_type": "markdown",
   "id": "9653286b",
   "metadata": {
    "slideshow": {
     "slide_type": "subslide"
    }
   },
   "source": [
    "**Numbers and Operations**"
   ]
  },
  {
   "cell_type": "code",
   "execution_count": 4,
   "id": "22b8cea4-1dba-44d5-996b-5b3fdfa08aaf",
   "metadata": {
    "slideshow": {
     "slide_type": "fragment"
    }
   },
   "outputs": [
    {
     "name": "stdout",
     "output_type": "stream",
     "text": [
      "<class 'float'>\n",
      "3\n",
      "8\n",
      "11\n"
     ]
    }
   ],
   "source": [
    "# Floats\n",
    "print(type(3.1415))   # <class 'float'>\n",
    "\n",
    "# Incrementing values\n",
    "w = 2\n",
    "w = w + 1   # equivalent to w += 1\n",
    "print(w)    # 3\n",
    "\n",
    "# Adding another variable\n",
    "print(v)    # 8\n",
    "w += v      # 3 + 8\n",
    "print(w)    # 11"
   ]
  },
  {
   "cell_type": "markdown",
   "id": "9e933637",
   "metadata": {
    "slideshow": {
     "slide_type": "subslide"
    }
   },
   "source": [
    "**Arithmetic Operators**"
   ]
  },
  {
   "cell_type": "code",
   "execution_count": 5,
   "id": "b6124a73-5bc6-441a-9f93-12fc8d5720ab",
   "metadata": {
    "slideshow": {
     "slide_type": "fragment"
    }
   },
   "outputs": [
    {
     "name": "stdout",
     "output_type": "stream",
     "text": [
      "a+b = 6\n",
      "a-b = 2\n",
      "a*b = 8\n",
      "a/b = 2.0\n",
      "a**b = 16\n",
      "b%a = 2\n",
      "a%b = 0\n",
      "a//b = 4\n"
     ]
    }
   ],
   "source": [
    "a = 4\n",
    "b = 2\n",
    "\n",
    "# Basic arithmetic\n",
    "print('a+b =', a+b)    # 6\n",
    "print('a-b =', a-b)    # 2\n",
    "print('a*b =', a*b)    # 8\n",
    "print('a/b =', a/b)    # 2.0\n",
    "\n",
    "# Exponentiation\n",
    "print('a**b =', a**2)  # 16\n",
    "\n",
    "# Modulo (remainder)\n",
    "print('b%a =', b%a)    # 2\n",
    "print('a%b =', a%b)    # 0\n",
    "\n",
    "# Floor division\n",
    "print('a//b =', 9//b)  # 4\n"
   ]
  },
  {
   "cell_type": "markdown",
   "id": "066cc203",
   "metadata": {
    "slideshow": {
     "slide_type": "subslide"
    }
   },
   "source": [
    "**Lists**"
   ]
  },
  {
   "cell_type": "code",
   "execution_count": 6,
   "id": "b1a088ea-99d1-4589-8bd1-318a77a7292c",
   "metadata": {},
   "outputs": [
    {
     "name": "stdout",
     "output_type": "stream",
     "text": [
      "[1, 2, 3]\n",
      "[1, 2, 45]\n",
      "[1, 2, 45, 8, 5]\n",
      "['a', 'b', 'c']\n",
      "['a', 'b', 'c', ['d', 'e']]\n",
      "<class 'list'>\n"
     ]
    }
   ],
   "source": [
    "# Creating and modifying lists\n",
    "list1 = [1, 2, 3]\n",
    "print(list1)               # [1, 2, 3]\n",
    "\n",
    "list1[2] = 45              # update element at index 2\n",
    "print(list1)               # [1, 2, 45]\n",
    "\n",
    "list1.extend([8, 5])       # add multiple elements\n",
    "print(list1)               # [1, 2, 45, 8, 5]\n",
    "\n",
    "# Another list with strings\n",
    "second_list = [\"a\", 'b', 'c']\n",
    "print(second_list)         # ['a', 'b', 'c']\n",
    "\n",
    "second_list.append(['d','e'])  # append as a sublist\n",
    "print(second_list)             # ['a', 'b', 'c', ['d', 'e']]\n",
    "\n",
    "print(type(second_list))       # <class 'list'>\n"
   ]
  },
  {
   "cell_type": "markdown",
   "id": "15092f27",
   "metadata": {
    "slideshow": {
     "slide_type": "subslide"
    }
   },
   "source": [
    "**Tuples**"
   ]
  },
  {
   "cell_type": "code",
   "execution_count": 7,
   "id": "19a08c36-0b60-49aa-bf6b-d2cfca345389",
   "metadata": {
    "slideshow": {
     "slide_type": "fragment"
    }
   },
   "outputs": [
    {
     "name": "stdout",
     "output_type": "stream",
     "text": [
      "(1, 'a', 2, 'f')\n",
      "f\n",
      "a\n"
     ]
    }
   ],
   "source": [
    "# Tuples are immutable sequences\n",
    "first_tuple = (1, 'a', 2, 'f')\n",
    "print(first_tuple)      # (1, 'a', 2, 'f')\n",
    "\n",
    "print(first_tuple[3])   # f\n",
    "\n",
    "# Tuple unpacking\n",
    "(a, b, c, d) = first_tuple\n",
    "print(b)                # 'a'"
   ]
  },
  {
   "cell_type": "markdown",
   "id": "6ca8a310",
   "metadata": {
    "slideshow": {
     "slide_type": "subslide"
    }
   },
   "source": [
    "**Using Math module**"
   ]
  },
  {
   "cell_type": "code",
   "execution_count": 8,
   "id": "fd9fd96f-c2ca-46a6-b091-9ef9519b87e6",
   "metadata": {
    "slideshow": {
     "slide_type": "fragment"
    }
   },
   "outputs": [
    {
     "name": "stdout",
     "output_type": "stream",
     "text": [
      "0.9320390859672263\n",
      "Help on built-in function sin in module math:\n",
      "\n",
      "sin(x, /)\n",
      "    Return the sine of x (measured in radians).\n",
      "\n"
     ]
    },
    {
     "data": {
      "text/plain": [
       "['__doc__',\n",
       " '__loader__',\n",
       " '__name__',\n",
       " '__package__',\n",
       " '__spec__',\n",
       " 'acos',\n",
       " 'acosh',\n",
       " 'asin',\n",
       " 'asinh',\n",
       " 'atan',\n",
       " 'atan2',\n",
       " 'atanh',\n",
       " 'cbrt',\n",
       " 'ceil',\n",
       " 'comb',\n",
       " 'copysign',\n",
       " 'cos',\n",
       " 'cosh',\n",
       " 'degrees',\n",
       " 'dist',\n",
       " 'e',\n",
       " 'erf',\n",
       " 'erfc',\n",
       " 'exp',\n",
       " 'exp2',\n",
       " 'expm1',\n",
       " 'fabs',\n",
       " 'factorial',\n",
       " 'floor',\n",
       " 'fma',\n",
       " 'fmod',\n",
       " 'frexp',\n",
       " 'fsum',\n",
       " 'gamma',\n",
       " 'gcd',\n",
       " 'hypot',\n",
       " 'inf',\n",
       " 'isclose',\n",
       " 'isfinite',\n",
       " 'isinf',\n",
       " 'isnan',\n",
       " 'isqrt',\n",
       " 'lcm',\n",
       " 'ldexp',\n",
       " 'lgamma',\n",
       " 'log',\n",
       " 'log10',\n",
       " 'log1p',\n",
       " 'log2',\n",
       " 'modf',\n",
       " 'nan',\n",
       " 'nextafter',\n",
       " 'perm',\n",
       " 'pi',\n",
       " 'pow',\n",
       " 'prod',\n",
       " 'radians',\n",
       " 'remainder',\n",
       " 'sin',\n",
       " 'sinh',\n",
       " 'sqrt',\n",
       " 'sumprod',\n",
       " 'tan',\n",
       " 'tanh',\n",
       " 'tau',\n",
       " 'trunc',\n",
       " 'ulp']"
      ]
     },
     "execution_count": 8,
     "metadata": {},
     "output_type": "execute_result"
    }
   ],
   "source": [
    "import math\n",
    "\n",
    "# Example: sine function (input in radians)\n",
    "print(math.sin(1.2))   # 0.932...\n",
    "\n",
    "# Get help/documentation on a function\n",
    "help(math.sin)\n",
    "\n",
    "# List available functions/constants in the module\n",
    "dir(math)"
   ]
  },
  {
   "cell_type": "markdown",
   "id": "cec809fe",
   "metadata": {
    "slideshow": {
     "slide_type": "slide"
    }
   },
   "source": [
    "<div align=\"center\">\n",
    "\n",
    "### **Python for Chemical Engineering**\n",
    "\n",
    "</div>"
   ]
  },
  {
   "cell_type": "markdown",
   "id": "9fe04f68-86f8-4a12-b57c-c1fdebf22098",
   "metadata": {
    "slideshow": {
     "slide_type": "subslide"
    }
   },
   "source": [
    "## Why Python for Chemical Engineering?\n",
    "- Plants and labs generate **time-series data** (T, P, flow, composition).\n",
    "- Python lets us **store**, **analyze**, and **visualize** data repeatably.\n",
    "- Today we’ll connect the basics to small ChemEng problems.\n"
   ]
  },
  {
   "cell_type": "code",
   "execution_count": 1,
   "id": "174fc9cf-7f01-4619-9260-ee95fbf38f6e",
   "metadata": {
    "slideshow": {
     "slide_type": "fragment"
    }
   },
   "outputs": [
    {
     "name": "stdout",
     "output_type": "stream",
     "text": [
      "Python: 3.13.0\n"
     ]
    }
   ],
   "source": [
    "# Always good to know your Python version\n",
    "import sys\n",
    "print(\"Python:\", sys.version.split()[0])\n"
   ]
  },
  {
   "cell_type": "markdown",
   "id": "90064a85-f4ee-42ca-8d29-beb45e020196",
   "metadata": {
    "slideshow": {
     "slide_type": "subslide"
    }
   },
   "source": [
    "## 1) Variables & Assignment\n",
    "A **variable** is a name that stores a value in memory.\n",
    "\n",
    "- Use `=` to assign.\n",
    "- Names should be descriptive: `temperature_K`, `mass_kg`.\n",
    "\n",
    "We’ll store some simple process values.\n"
   ]
  },
  {
   "cell_type": "code",
   "execution_count": 2,
   "id": "f9ddffdf-3cbd-4410-91e0-08aa6eae43c8",
   "metadata": {
    "slideshow": {
     "slide_type": "fragment"
    }
   },
   "outputs": [
    {
     "name": "stdout",
     "output_type": "stream",
     "text": [
      "350.0 5.0 2.5\n"
     ]
    }
   ],
   "source": [
    "# Variables for a stream\n",
    "temperature_K = 350.0    # Kelvin\n",
    "pressure_bar = 5.0       # bar\n",
    "flow_mol_s = 2.5         # mol/s\n",
    "\n",
    "print(temperature_K, pressure_bar, flow_mol_s)\n"
   ]
  },
  {
   "cell_type": "markdown",
   "id": "9e7d4814-942e-4ff4-be03-c12ba013056c",
   "metadata": {
    "slideshow": {
     "slide_type": "subslide"
    }
   },
   "source": [
    "### Quick Check\n",
    "- Reassign a variable: `temperature_K = 365.0`\n",
    "- Variables are case-sensitive: `Flow_mol_s` ≠ `flow_mol_s`\n"
   ]
  },
  {
   "cell_type": "markdown",
   "id": "6b1cbea1-1464-4117-8bc5-f006a9c65de0",
   "metadata": {
    "slideshow": {
     "slide_type": "subslide"
    }
   },
   "source": [
    "### Example: Create and print variables"
   ]
  },
  {
   "cell_type": "code",
   "execution_count": 3,
   "id": "a6826b2b-451e-4373-ad7a-d7bbf81c905f",
   "metadata": {
    "slideshow": {
     "slide_type": "fragment"
    }
   },
   "outputs": [
    {
     "name": "stdout",
     "output_type": "stream",
     "text": [
      "V = 1.2 m^3; m = 500.0 kg\n",
      "Updated mass = 520.0 kg\n"
     ]
    }
   ],
   "source": [
    "# Example\n",
    "# 1) Create variables: reactor_volume_m3, mass_kg\n",
    "# 2) Print them on one line.\n",
    "# 3) Reassign mass_kg to a new value and print again.\n",
    "\n",
    "reactor_volume_m3 = 1.2\n",
    "mass_kg = 500.0\n",
    "\n",
    "print(\"V =\", reactor_volume_m3, \"m^3; m =\", mass_kg, \"kg\")\n",
    "\n",
    "mass_kg = 520.0\n",
    "print(\"Updated mass =\", mass_kg, \"kg\")\n"
   ]
  },
  {
   "cell_type": "markdown",
   "id": "e92a27ba-5f6c-487b-9a85-50678dd3268f",
   "metadata": {
    "slideshow": {
     "slide_type": "subslide"
    }
   },
   "source": [
    "## 2) Arithmetic Operators & Precedence\n",
    "- `+`, `-`, `*`, `/`, `**` (power), `%` (mod)\n",
    "- Precedence: `**` → `*` `/` → `+` `-` (use parentheses to be explicit)\n",
    "\n",
    "**ChemEng focus:** quick property and balance calculations.\n"
   ]
  },
  {
   "cell_type": "code",
   "execution_count": 4,
   "id": "714d3e9c-029b-4ddb-920b-c0425372799a",
   "metadata": {
    "slideshow": {
     "slide_type": "fragment"
    }
   },
   "outputs": [
    {
     "name": "stdout",
     "output_type": "stream",
     "text": [
      "7 3 10 2.5 25\n",
      "11\n",
      "16\n"
     ]
    }
   ],
   "source": [
    "# Basic arithmetic\n",
    "a = 5\n",
    "b = 2\n",
    "print(a + b, a - b, a * b, a / b, a ** b)\n",
    "\n",
    "# Parentheses matter\n",
    "print(5 + 3 * 2)     # 11\n",
    "print((5 + 3) * 2)   # 16\n"
   ]
  },
  {
   "cell_type": "code",
   "execution_count": 5,
   "id": "3bcb1504-3af7-4316-9ca8-4a4a905fd9eb",
   "metadata": {
    "slideshow": {
     "slide_type": "subslide"
    }
   },
   "outputs": [
    {
     "name": "stdout",
     "output_type": "stream",
     "text": [
      "Density = 769.2307692307692 kg/m^3\n"
     ]
    }
   ],
   "source": [
    "# Example: Density\n",
    "# ρ = m / V\n",
    "mass_kg = 500.0\n",
    "volume_m3 = 0.65\n",
    "rho = mass_kg / volume_m3\n",
    "print(\"Density =\", rho, \"kg/m^3\")\n"
   ]
  },
  {
   "cell_type": "code",
   "execution_count": 6,
   "id": "6c207855-6878-466b-9580-a479b71d5c84",
   "metadata": {
    "slideshow": {
     "slide_type": "subslide"
    }
   },
   "outputs": [
    {
     "name": "stdout",
     "output_type": "stream",
     "text": [
      "Celsius: 80.0 -> Kelvin: 353.15 -> Fahrenheit: 176.0\n"
     ]
    }
   ],
   "source": [
    "# Example: Temperature Conversions\n",
    "# T(K) = T(°C) + 273.15 ; T(°F) = T(°C) * 9/5 + 32\n",
    "T_C = 80.0\n",
    "T_K = T_C + 273.15\n",
    "T_F = T_C * 9/5 + 32\n",
    "print(\"Celsius:\", T_C, \"-> Kelvin:\", T_K, \"-> Fahrenheit:\", T_F)\n"
   ]
  },
  {
   "cell_type": "code",
   "execution_count": 7,
   "id": "501dd03a-fa26-4430-83a5-e9ad24ddca43",
   "metadata": {
    "slideshow": {
     "slide_type": "subslide"
    }
   },
   "outputs": [
    {
     "name": "stdout",
     "output_type": "stream",
     "text": [
      "Moles of gas = 400.9301579664822 mol\n"
     ]
    }
   ],
   "source": [
    "# Example: Ideal Gas Law\n",
    "# PV = nRT  ->  n = PV / (RT)\n",
    "P_bar = 5.0\n",
    "V_m3  = 2.0\n",
    "T_K   = 300.0\n",
    "R_barL = 0.08314  # bar·L/(mol·K)\n",
    "\n",
    "V_L = V_m3 * 1000.0\n",
    "n_mol = (P_bar * V_L) / (R_barL * T_K)\n",
    "print(\"Moles of gas =\", n_mol, \"mol\")\n"
   ]
  },
  {
   "cell_type": "markdown",
   "id": "8121ffe1-f304-4a1f-a348-3855a5350bf2",
   "metadata": {
    "slideshow": {
     "slide_type": "subslide"
    }
   },
   "source": [
    "### Energy Balance Snippet\n",
    "Assume constant heat capacity `Cp` and a temperature rise ΔT.\n",
    "\n",
    "1. Given `Cp = 4.18 kJ/(kg·K)`, `m = 2.0 kg`, `ΔT = 15 K`, compute `Q = m·Cp·ΔT`.\n",
    "2. Convert `Q` to **Joules**.\n",
    "3. Print a nice, readable line with units.\n"
   ]
  },
  {
   "cell_type": "code",
   "execution_count": 8,
   "id": "9671e69f-bd01-431e-88e8-6f3b4fabbff5",
   "metadata": {
    "slideshow": {
     "slide_type": "fragment"
    }
   },
   "outputs": [
    {
     "name": "stdout",
     "output_type": "stream",
     "text": [
      "Heat added Q = 125.40 kJ (125400 J)\n"
     ]
    }
   ],
   "source": [
    "Cp_kJ_per_kgK = 4.18\n",
    "m_kg = 2.0\n",
    "dT_K = 15.0\n",
    "\n",
    "Q_kJ = m_kg * Cp_kJ_per_kgK * dT_K\n",
    "Q_J = Q_kJ * 1000.0\n",
    "print(f\"Heat added Q = {Q_kJ:.2f} kJ ({Q_J:.0f} J)\")\n"
   ]
  },
  {
   "cell_type": "markdown",
   "id": "ebccf60b-6acf-4040-9213-20e38838baef",
   "metadata": {
    "slideshow": {
     "slide_type": "subslide"
    }
   },
   "source": [
    "## 3) `print()` and String Formatting\n",
    "- `print(value1, value2, ...)`\n",
    "- f-strings: `f\"Density = {rho:.1f} kg/m^3\"` (format numbers nicely)\n",
    "- `\\n` for new line, `\\t` for tab\n"
   ]
  },
  {
   "cell_type": "code",
   "execution_count": 9,
   "id": "10963642-6c27-4439-a3d2-c5b9db0a9a0e",
   "metadata": {
    "slideshow": {
     "slide_type": "fragment"
    }
   },
   "outputs": [
    {
     "name": "stdout",
     "output_type": "stream",
     "text": [
      "Density = 769.230769 kg/m^3\n",
      "Density = 769.23 kg/m^3\n",
      "Component: Benzene\n",
      "MW: 78.11 g/mol\n"
     ]
    }
   ],
   "source": [
    "rho = 769.230769\n",
    "print(\"Density =\", rho, \"kg/m^3\")      # simple\n",
    "print(f\"Density = {rho:.2f} kg/m^3\")   # formatted to 2 decimals\n",
    "\n",
    "# Multi-line print\n",
    "name = \"Benzene\"\n",
    "mw = 78.11\n",
    "print(f\"Component: {name}\\nMW: {mw} g/mol\")\n"
   ]
  },
  {
   "cell_type": "markdown",
   "id": "d09cd38f-aa3d-4b08-85ff-1c3aeb272ae5",
   "metadata": {
    "slideshow": {
     "slide_type": "subslide"
    }
   },
   "source": [
    "## 4) Strings (text)\n",
    "- Strings are quoted text: `\"Water\"`, `'Reactor-1'`\n",
    "- You can **concatenate** strings with `+` or f-strings.\n",
    "- Useful for labels, filenames, short reports.\n"
   ]
  },
  {
   "cell_type": "code",
   "execution_count": 10,
   "id": "b7a613aa-c8a7-4c51-a296-79669d16da23",
   "metadata": {
    "slideshow": {
     "slide_type": "fragment"
    }
   },
   "outputs": [
    {
     "name": "stdout",
     "output_type": "stream",
     "text": [
      "Mixture: Benzene + Phenol\n",
      "Mixture: Benzene + Phenol\n",
      "Mixture: Benzene + Phenol\n",
      "Mixture: Benzene + Phenol\n"
     ]
    }
   ],
   "source": [
    "comp1 = \"Benzene\"\n",
    "comp2 = \"Phenol\"\n",
    "print(\"Mixture:\", comp1, \"+\", comp2)\n",
    "print(\"Mixture:\", comp1 + \" + \" + comp2)\n",
    "print(\"Mixture: \" + comp1 + \" + \" + comp2)\n",
    "print(f\"Mixture: {comp1} + {comp2}\")"
   ]
  },
  {
   "cell_type": "code",
   "execution_count": 11,
   "id": "93b9ae2a-8bcc-4f68-be9c-40c77cc8b4a5",
   "metadata": {
    "slideshow": {
     "slide_type": "subslide"
    }
   },
   "outputs": [
    {
     "name": "stdout",
     "output_type": "stream",
     "text": [
      "[Feed-1] T=360.0 K, P=3.2 bar\n"
     ]
    }
   ],
   "source": [
    "# Example: Small report line\n",
    "stream_id = \"Feed-1\"\n",
    "T_K = 360.0\n",
    "P_bar = 3.2\n",
    "report = f\"[{stream_id}] T={T_K:.1f} K, P={P_bar:.1f} bar\"\n",
    "print(report)\n"
   ]
  },
  {
   "cell_type": "markdown",
   "id": "47d996b0-0654-40d6-b744-8bca216483be",
   "metadata": {
    "slideshow": {
     "slide_type": "subslide"
    }
   },
   "source": [
    "### Example: Mini “property line”\n",
    "Create variables for a stream:\n",
    "\n",
    "- `name`, `T_K`, `P_bar`, `flow_mol_s`\n",
    "- Print a **single line**: `[name] T=?, P=?, flow=?` with 1 decimal place for numbers.\n"
   ]
  },
  {
   "cell_type": "code",
   "execution_count": 12,
   "id": "230fa85e-726f-4dde-bf01-a4fd8071dea0",
   "metadata": {
    "slideshow": {
     "slide_type": "fragment"
    }
   },
   "outputs": [
    {
     "name": "stdout",
     "output_type": "stream",
     "text": [
      "[Vapor-2] T=402.3 K, P=1.8 bar, flow=4.2 mol/s\n"
     ]
    }
   ],
   "source": [
    "# Possible Solution\n",
    "name = \"Vapor-2\"\n",
    "T_K = 402.3\n",
    "P_bar = 1.78\n",
    "flow_mol_s = 4.25\n",
    "print(f\"[{name}] T={T_K:.1f} K, P={P_bar:.1f} bar, flow={flow_mol_s:.1f} mol/s\")\n"
   ]
  },
  {
   "cell_type": "markdown",
   "id": "67a5b36d-5da5-4a3f-a07f-f870bc68dd02",
   "metadata": {
    "slideshow": {
     "slide_type": "subslide"
    }
   },
   "source": [
    "## 5) User Input\n",
    "Use `input()` to read text from the user. Convert to numbers with `float()` or `int()`.\n"
   ]
  },
  {
   "cell_type": "code",
   "execution_count": 13,
   "id": "15f776e3-3d34-4462-870c-119b38d9dc8d",
   "metadata": {
    "slideshow": {
     "slide_type": "fragment"
    }
   },
   "outputs": [
    {
     "name": "stdout",
     "output_type": "stream",
     "text": [
      "Stream S1 has flow 20.25 mol/s.\n"
     ]
    }
   ],
   "source": [
    "name = \"S1\"\n",
    "flow_mol_s = float(20.252)\n",
    "print(f\"Stream {name} has flow {flow_mol_s:.2f} mol/s.\")\n"
   ]
  },
  {
   "cell_type": "code",
   "execution_count": 14,
   "id": "9344e96b-c752-429b-80fd-7f6d0d56bb7d",
   "metadata": {
    "slideshow": {
     "slide_type": "fragment"
    }
   },
   "outputs": [
    {
     "name": "stdout",
     "output_type": "stream",
     "text": [
      "Enter stream name: S1\n",
      "Enter flow (mol/s): 20.222\n",
      "Stream S1 has flow 20.22 mol/s.\n"
     ]
    }
   ],
   "source": [
    "name = input(\"Enter stream name: \")\n",
    "flow_mol_s = float(input(\"Enter flow (mol/s): \"))\n",
    "print(f\"Stream {name} has flow {flow_mol_s:.2f} mol/s.\")\n"
   ]
  },
  {
   "cell_type": "markdown",
   "id": "aa0e3d60",
   "metadata": {
    "slideshow": {
     "slide_type": "subslide"
    }
   },
   "source": [
    "### Example: Mole fraction from user input"
   ]
  },
  {
   "cell_type": "code",
   "execution_count": 15,
   "id": "523a6bf7-1070-443b-9f2b-c57b494c76fe",
   "metadata": {
    "slideshow": {
     "slide_type": "fragment"
    }
   },
   "outputs": [
    {
     "name": "stdout",
     "output_type": "stream",
     "text": [
      "n_A = 2.000 mol, n_B = 2.000 mol, total = 4.000 mol\n",
      "Mole fractions: x_A = 0.500, x_B = 0.500\n"
     ]
    }
   ],
   "source": [
    "# Ask for masses and compute mole fractions for a binary mixture\n",
    "# A: water (MW 18), B: ethanol (MW 46) as simple example\n",
    "\n",
    "# Solution without input\n",
    "mass_A = 36.0  # g\n",
    "mass_B = 92.0  # g\n",
    "\n",
    "MW_A = 18.0\n",
    "MW_B = 46.0\n",
    "\n",
    "n_A = mass_A / MW_A\n",
    "n_B = mass_B / MW_B\n",
    "total = n_A + n_B\n",
    "x_A = n_A / total\n",
    "x_B = n_B / total\n",
    "\n",
    "print(f\"n_A = {n_A:.3f} mol, n_B = {n_B:.3f} mol, total = {total:.3f} mol\")\n",
    "print(f\"Mole fractions: x_A = {x_A:.3f}, x_B = {x_B:.3f}\")\n"
   ]
  },
  {
   "cell_type": "code",
   "execution_count": 16,
   "id": "51c470a0-0e73-4c3b-8e45-331d56dccd9b",
   "metadata": {
    "slideshow": {
     "slide_type": "subslide"
    }
   },
   "outputs": [
    {
     "name": "stdout",
     "output_type": "stream",
     "text": [
      "Enter mass of component A (g): 20\n",
      "Enter mass of component B (g): 50\n",
      "n_A = 1.111 mol, n_B = 1.087 mol, total = 2.198 mol\n",
      "Mole fractions: x_A = 0.505, x_B = 0.495\n"
     ]
    }
   ],
   "source": [
    "mass_A = float(input(\"Enter mass of component A (g): \"))\n",
    "mass_B = float(input(\"Enter mass of component B (g): \"))\n",
    "\n",
    "\n",
    "MW_A = 18.0\n",
    "MW_B = 46.0\n",
    "\n",
    "n_A = mass_A / MW_A\n",
    "n_B = mass_B / MW_B\n",
    "total = n_A + n_B\n",
    "x_A = n_A / total\n",
    "x_B = n_B / total\n",
    "\n",
    "print(f\"n_A = {n_A:.3f} mol, n_B = {n_B:.3f} mol, total = {total:.3f} mol\")\n",
    "print(f\"Mole fractions: x_A = {x_A:.3f}, x_B = {x_B:.3f}\")\n"
   ]
  },
  {
   "cell_type": "markdown",
   "id": "bad112f0",
   "metadata": {
    "slideshow": {
     "slide_type": "subslide"
    }
   },
   "source": [
    "### Example: Density from User Input\n",
    "1. Prompt the user for `mass_kg` and `volume_m3`.\n",
    "2. Compute `rho = m / V`.\n",
    "3. Print **with units** and **2 decimals**.\n"
   ]
  },
  {
   "cell_type": "code",
   "execution_count": 17,
   "id": "cb4cd171-7e25-415d-bd1f-d044ab4ce38b",
   "metadata": {
    "slideshow": {
     "slide_type": "fragment"
    }
   },
   "outputs": [
    {
     "name": "stdout",
     "output_type": "stream",
     "text": [
      "Density = 520.83 kg/m^3\n"
     ]
    }
   ],
   "source": [
    "# Solution without input\n",
    "mass_kg = 250.0\n",
    "volume_m3 = 0.48\n",
    "\n",
    "rho = mass_kg / volume_m3\n",
    "print(f\"Density = {rho:.2f} kg/m^3\")\n"
   ]
  },
  {
   "cell_type": "code",
   "execution_count": 18,
   "id": "a8735e10-4f70-4518-a4c8-7e84408a255f",
   "metadata": {
    "slideshow": {
     "slide_type": "fragment"
    }
   },
   "outputs": [
    {
     "name": "stdout",
     "output_type": "stream",
     "text": [
      "Mass (kg): 250\n",
      "Volume (m^3): 0.48\n",
      "Density = 520.83 kg/m^3\n"
     ]
    }
   ],
   "source": [
    "mass_kg = float(input(\"Mass (kg): \"))\n",
    "volume_m3 = float(input(\"Volume (m^3): \"))\n",
    "\n",
    "rho = mass_kg / volume_m3\n",
    "print(f\"Density = {rho:.2f} kg/m^3\")\n"
   ]
  },
  {
   "cell_type": "markdown",
   "id": "a0df7f88-fa2a-48c1-86e7-9a636492c1f1",
   "metadata": {
    "slideshow": {
     "slide_type": "subslide"
    }
   },
   "source": [
    "## 6) Activity: Report Line\n",
    "**Calculate gas moles** for a vessel and print a short report line.\n",
    "\n",
    "Inputs:\n",
    "- `P_bar`, `V_m3`, `T_K`, `R = 0.08314 bar·L/(mol·K)`\n",
    "\n",
    "Tasks:\n",
    "1. Convert `V_m3` to liters.\n",
    "2. Compute `n = PV / (RT)`.\n",
    "3. Print: `\"[Vessel-1] n = ? mol at P=?, T=?\"`\n"
   ]
  },
  {
   "cell_type": "code",
   "execution_count": 19,
   "id": "345761ac-951e-4fe4-9791-15d90165c5c7",
   "metadata": {
    "slideshow": {
     "slide_type": "subslide"
    }
   },
   "outputs": [
    {
     "name": "stdout",
     "output_type": "stream",
     "text": [
      "[Vessel-1] n = 75.17 mol at P=2.50 bar, T=320.0 K\n"
     ]
    }
   ],
   "source": [
    "# Possible Solution\n",
    "P_bar = 2.5\n",
    "V_m3  = 0.8\n",
    "T_K   = 320.0\n",
    "R_barL = 0.08314\n",
    "\n",
    "V_L = V_m3 * 1000.0\n",
    "n_mol = (P_bar * V_L) / (R_barL * T_K)\n",
    "\n",
    "print(f\"[Vessel-1] n = {n_mol:.2f} mol at P={P_bar:.2f} bar, T={T_K:.1f} K\")\n"
   ]
  },
  {
   "cell_type": "markdown",
   "id": "96ae51c8-1bd9-4b8d-8f0f-7a635292736b",
   "metadata": {
    "slideshow": {
     "slide_type": "slide"
    }
   },
   "source": [
    "## 7) Quick Knowledge Check (1–2 min)\n",
    "1. What does `=` do in Python?\n",
    "2. What does `**` do?\n",
    "3. How do you print to 2 decimal places with an f-string?\n",
    "4. How do you convert user text input to a float?\n"
   ]
  },
  {
   "cell_type": "markdown",
   "id": "40e2a233-a6cb-4333-af69-5b6e7687c9b7",
   "metadata": {
    "slideshow": {
     "slide_type": "slide"
    }
   },
   "source": [
    "## 8) Summary & Next Steps\n",
    "- Variables store numbers/text.\n",
    "- Arithmetic + units give quick engineering computations.\n",
    "- `print()` + f-strings make results readable.\n",
    "- `input()` lets you interact with users.\n",
    "- Next lecture: **logic (if/else)** and **loops** to automate repeated calculations.\n"
   ]
  },
  {
   "cell_type": "markdown",
   "id": "6ee16239",
   "metadata": {
    "slideshow": {
     "slide_type": "slide"
    }
   },
   "source": [
    "<div align=\"center\">\n",
    "\n",
    "### **Extra Exercises**\n",
    "\n",
    "</div>"
   ]
  },
  {
   "cell_type": "markdown",
   "id": "81c731e7",
   "metadata": {
    "slideshow": {
     "slide_type": "slide"
    }
   },
   "source": [
    "### 2.1 Introduction - Extra Exercises"
   ]
  },
  {
   "cell_type": "code",
   "execution_count": null,
   "id": "d0eaf8dc",
   "metadata": {
    "slideshow": {
     "slide_type": "fragment"
    }
   },
   "outputs": [],
   "source": [
    "# Try simple arithmetic in interactive mode\n",
    "2 + 2\n",
    "\n",
    "# What happens if we mix operations?\n",
    "2 + 2 * 3\n"
   ]
  },
  {
   "cell_type": "markdown",
   "id": "7e9cb470",
   "metadata": {
    "slideshow": {
     "slide_type": "slide"
    }
   },
   "source": [
    "### 2.2 Variables and Assignment Statements - Extra Exercises"
   ]
  },
  {
   "cell_type": "code",
   "execution_count": null,
   "id": "4b2b564e",
   "metadata": {
    "slideshow": {
     "slide_type": "subslide"
    }
   },
   "outputs": [],
   "source": [
    "# Assign a string to a variable\n",
    "student_name = \"Alice\"\n",
    "print(student_name)\n",
    "\n",
    "# Swapping variables\n",
    "a = 7\n",
    "b = 3\n",
    "print(\"Before swap:\", a, b)\n",
    "\n",
    "# Swap values\n",
    "a, b = b, a\n",
    "print(\"After swap:\", a, b)\n"
   ]
  },
  {
   "cell_type": "markdown",
   "id": "daec5146",
   "metadata": {
    "slideshow": {
     "slide_type": "slide"
    }
   },
   "source": [
    "### 2.3 Arithmetic - Extra Exercises"
   ]
  },
  {
   "cell_type": "code",
   "execution_count": null,
   "id": "97fdf5d8",
   "metadata": {
    "slideshow": {
     "slide_type": "subslide"
    }
   },
   "outputs": [],
   "source": [
    "# Calculate the area of a circle\n",
    "radius = 5\n",
    "area = 3.14159 * radius ** 2\n",
    "print(\"Area of circle:\", area)\n",
    "\n",
    "# Check if sum of two numbers is even\n",
    "x = 4\n",
    "y = 7\n",
    "if (x + y) % 2 == 0:\n",
    "    print(\"The sum is even.\")\n",
    "else:\n",
    "    print(\"The sum is odd.\")\n"
   ]
  },
  {
   "cell_type": "markdown",
   "id": "acdd2054",
   "metadata": {
    "slideshow": {
     "slide_type": "slide"
    }
   },
   "source": [
    "### 2.4 print and Strings - Extra Exercises"
   ]
  },
  {
   "cell_type": "code",
   "execution_count": null,
   "id": "7d40da41",
   "metadata": {
    "slideshow": {
     "slide_type": "fragment"
    }
   },
   "outputs": [],
   "source": [
    "# Single and double quotes\n",
    "print('Hello with single quotes')\n",
    "print(\"Hello with double quotes\")\n",
    "\n",
    "# Print both together\n",
    "print(\"She said 'Python is fun!'\")\n",
    "\n",
    "# Combine text and number\n",
    "print(\"My favorite number is\", 42)\n",
    "print(\"42 is my favorite number\")\n"
   ]
  },
  {
   "cell_type": "markdown",
   "id": "ca411e2c",
   "metadata": {
    "slideshow": {
     "slide_type": "slide"
    }
   },
   "source": [
    "### 2.5 Triple-Quoted Strings - Extra Exercises"
   ]
  },
  {
   "cell_type": "code",
   "execution_count": null,
   "id": "33b30397",
   "metadata": {
    "slideshow": {
     "slide_type": "fragment"
    }
   },
   "outputs": [],
   "source": [
    "# Triple-quoted string (multiline)\n",
    "poem = \"\"\"Roses are red,\n",
    "Violets are blue,\n",
    "Python is awesome,\n",
    "And so are you.\"\"\"\n",
    "print(poem)\n"
   ]
  },
  {
   "cell_type": "markdown",
   "id": "134989d6",
   "metadata": {
    "slideshow": {
     "slide_type": "slide"
    }
   },
   "source": [
    "### 2.6 Getting Input from the User - Extra Exercises"
   ]
  },
  {
   "cell_type": "code",
   "execution_count": null,
   "id": "736e0e76",
   "metadata": {
    "slideshow": {
     "slide_type": "fragment"
    }
   },
   "outputs": [],
   "source": [
    "# Ask for age\n",
    "age = input(\"Enter your age: \")\n",
    "print(\"You are\", age, \"years old.\")\n",
    "\n",
    "# Add two numbers\n",
    "num1 = int(input(\"Enter first number: \"))\n",
    "num2 = int(input(\"Enter second number: \"))\n",
    "print(\"The sum is:\", num1 + num2)\n"
   ]
  },
  {
   "cell_type": "markdown",
   "id": "8599079f",
   "metadata": {
    "slideshow": {
     "slide_type": "slide"
    }
   },
   "source": [
    "### 2.7 if Statement and Comparisons - Extra Exercises"
   ]
  },
  {
   "cell_type": "code",
   "execution_count": null,
   "id": "ae9ce687",
   "metadata": {
    "slideshow": {
     "slide_type": "fragment"
    }
   },
   "outputs": [],
   "source": [
    "# Positive, negative, or zero\n",
    "num = int(input(\"Enter a number: \"))\n",
    "if num > 0:\n",
    "    print(\"Positive\")\n",
    "elif num < 0:\n",
    "    print(\"Negative\")\n",
    "else:\n",
    "    print(\"Zero\")\n",
    "\n",
    "# Pass or Fail\n",
    "grade = int(input(\"Enter your grade (0-100): \"))\n",
    "if grade >= 50:\n",
    "    print(\"Pass\")\n",
    "else:\n",
    "    print(\"Fail\")\n"
   ]
  },
  {
   "cell_type": "markdown",
   "id": "2bb37d10",
   "metadata": {
    "slideshow": {
     "slide_type": "slide"
    }
   },
   "source": [
    "### 2.8 Objects and Dynamic Typing - Extra Exercises"
   ]
  },
  {
   "cell_type": "code",
   "execution_count": null,
   "id": "9a7657b0",
   "metadata": {
    "slideshow": {
     "slide_type": "fragment"
    }
   },
   "outputs": [],
   "source": [
    "# Dynamic typing\n",
    "x = 5\n",
    "print(x, type(x))\n",
    "\n",
    "x = \"Hello\"\n",
    "print(x, type(x))\n",
    "\n",
    "# Invalid operation\n",
    "try:\n",
    "    result = 5 + \"Hello\"\n",
    "except TypeError as e:\n",
    "    print(\"Error:\", e)\n"
   ]
  },
  {
   "cell_type": "markdown",
   "id": "bce6437c",
   "metadata": {
    "slideshow": {
     "slide_type": "slide"
    }
   },
   "source": [
    "### 2.9 Basic Descriptive Statistics - Extra Exercises"
   ]
  },
  {
   "cell_type": "code",
   "execution_count": null,
   "id": "7f8b957b",
   "metadata": {
    "slideshow": {
     "slide_type": "fragment"
    }
   },
   "outputs": [],
   "source": [
    "# Manual average\n",
    "numbers = [10, 20, 30, 40, 50]\n",
    "average = sum(numbers) / len(numbers)\n",
    "print(\"Average:\", average)\n",
    "\n",
    "# Using statistics module\n",
    "import statistics\n",
    "\n",
    "scores = [85, 90, 75, 90, 100, 85]\n",
    "print(\"Mean:\", statistics.mean(scores))\n",
    "print(\"Median:\", statistics.median(scores))\n",
    "print(\"Mode:\", statistics.mode(scores))\n"
   ]
  },
  {
   "cell_type": "markdown",
   "id": "3157b0fe",
   "metadata": {
    "slideshow": {
     "slide_type": "slide"
    }
   },
   "source": [
    "### 2.10 Wrap-Up "
   ]
  },
  {
   "cell_type": "code",
   "execution_count": null,
   "id": "02254c36",
   "metadata": {
    "slideshow": {
     "slide_type": "fragment"
    }
   },
   "outputs": [],
   "source": [
    "# Mini project\n",
    "name = input(\"What is your name? \")\n",
    "age = int(input(\"How old are you? \"))\n",
    "\n",
    "print(\"Hello,\", name + \"!\")\n",
    "print(\"In 5 years, you will be\", age + 5, \"years old.\")\n",
    "\n",
    "if age >= 18:\n",
    "    print(\"You are an adult.\")\n",
    "else:\n",
    "    print(\"You are a minor.\")\n"
   ]
  },
  {
   "cell_type": "markdown",
   "id": "99a6c793-a860-42f3-9800-69bd227a2ab0",
   "metadata": {
    "slideshow": {
     "slide_type": "slide"
    }
   },
   "source": [
    "## Activity: Simple Grading System\n",
    "\n",
    "**Problem Statement:**  \n",
    "Write a Python program that:  \n",
    "1. Asks the user to enter three test scores (integers).  \n",
    "2. Stores them in variables.  \n",
    "3. Calculates the average.  \n",
    "4. Prints the minimum, maximum, and average score.  \n",
    "5. Uses an `if` statement to print **\"Pass\"** if the average is ≥ 50, otherwise print **\"Fail\"**.  \n",
    "6. Show the type of one of your variables using `type()`.\n",
    "\n",
    "**Hints:**  \n",
    "- Use `int(input(\"Enter score: \"))` to get numbers.  \n",
    "- Use `min()`, `max()`, `sum()`, and `len()` to do calculations.  \n",
    "- Remember that `if` statements can check conditions like `average >= 50`.  \n",
    "\n",
    "**Expected Output Example:**  \n",
    "- Enter score 1: 65\n",
    "- Enter score 2: 40\n",
    "- Enter score 3: 55\n",
    "- Minimum = 40, Maximum = 65, Average = 53.33\n",
    "- Pass"
   ]
  },
  {
   "cell_type": "markdown",
   "id": "c5ababe6-56a3-4fcb-b943-4174bcdf8d41",
   "metadata": {
    "slideshow": {
     "slide_type": "slide"
    }
   },
   "source": [
    "## Activity: Reactor Conversion Calculation\n",
    "\n",
    "**Problem Statement:**  \n",
    "In a chemical reactor, the **conversion** of a reactant is defined as:\n",
    "\n",
    "$$\n",
    "X = \\frac{F_{A0} - F_A}{F_{A0}}\n",
    "$$\n",
    "\n",
    "Where:  \n",
    "- $F_{A0}$ = initial molar flow rate of A (mol/s)  \n",
    "- $F_A$ = outlet molar flow rate of A (mol/s)  \n",
    "- $X$ = conversion (fraction of A reacted)\n",
    "\n",
    "Write a Python program that:  \n",
    "1. Prompts the user to enter the initial flow rate ($F_{A0}$) and outlet flow rate ($F_A$).  \n",
    "2. Calculates the conversion $X$.  \n",
    "3. Prints the result as a percentage (for example, \"Conversion = 60.00%\").  \n",
    "4. Uses an `if` statement:  \n",
    "   - If conversion $\\ge 50\\%$, print **\"Good conversion\"**.  \n",
    "   - Otherwise, print **\"Low conversion\"**.  \n",
    "5. Finally, print the type of the variable `X`.\n",
    "\n",
    "**Hints:**  \n",
    "- Use `float(input(\"Enter value: \"))` for numerical inputs.  \n",
    "- Conversion is a fraction; multiply by 100 to get percentage.  \n",
    "- Use formatted printing, e.g. `print(f\"Conversion = {X*100:.2f}%\")`.\n",
    "\n",
    "**Expected Output Example:**  \n",
    "- Enter F_A0 (mol/s): 10\n",
    "- Enter F_A (mol/s): 4\n",
    "- Conversion = 60.00%\n",
    "- Good conversion\n"
   ]
  }
 ],
 "metadata": {
  "celltoolbar": "Slideshow",
  "kernelspec": {
   "display_name": "Python 3 (ipykernel)",
   "language": "python",
   "name": "python3"
  },
  "language_info": {
   "codemirror_mode": {
    "name": "ipython",
    "version": 3
   },
   "file_extension": ".py",
   "mimetype": "text/x-python",
   "name": "python",
   "nbconvert_exporter": "python",
   "pygments_lexer": "ipython3",
   "version": "3.13.0"
  }
 },
 "nbformat": 4,
 "nbformat_minor": 5
}
