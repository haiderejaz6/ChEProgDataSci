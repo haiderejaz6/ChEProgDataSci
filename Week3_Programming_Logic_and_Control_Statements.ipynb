{
 "cells": [
  {
   "cell_type": "markdown",
   "id": "9f5cf108-d09a-49a5-a45d-03bab6933f19",
   "metadata": {
    "slideshow": {
     "slide_type": "slide"
    }
   },
   "source": [
    "# Week 3: Control Statements and Program Development\n",
    "\n",
    "**Topics:**\n",
    "- Algorithms & pseudocode\n",
    "- Flow control in Python (if, if-else, if-elif-else, while, for)\n",
    "- Augmented assignments\n",
    "- Program development (sequence-controlled and sentinel-controlled repetition)\n",
    "- Nested control statements\n",
    "- range function in depth\n",
    "- break and continue\n",
    "- Boolean operators\n",
    "- Measures of central tendency (mean, median, mode)\n",
    "\n",
    "---\n"
   ]
  },
  {
   "cell_type": "markdown",
   "id": "e1e574c6",
   "metadata": {
    "slideshow": {
     "slide_type": "slide"
    }
   },
   "source": [
    "## 3.1 Introduction\n",
    "Programming logic means structuring your code so that it can **make decisions** and **repeat actions**.  \n",
    "This is what makes code dynamic and powerful."
   ]
  },
  {
   "cell_type": "markdown",
   "id": "1d91d7d3",
   "metadata": {
    "slideshow": {
     "slide_type": "slide"
    }
   },
   "source": [
    "## 3.2 Algorithms\n",
    "An **algorithm** is a step-by-step procedure to solve a problem.\n",
    "\n",
    "**Example: Algorithm to calculate density (ρ = m/V)**\n",
    "1. Start\n",
    "2. Input mass (m) and volume (V)\n",
    "3. Compute density = m/V\n",
    "4. Print density\n",
    "5. End\n"
   ]
  },
  {
   "cell_type": "markdown",
   "id": "c2341d85",
   "metadata": {
    "slideshow": {
     "slide_type": "slide"
    }
   },
   "source": [
    "## 3.3 Pseudocode\n",
    "Pseudocode is a **plain English** description of an algorithm.\n",
    "\n",
    "Pseudocode is an informal English-like lanuage for **thinking out** algorithms. You write the text that descirbes what your program should do. You then convert the pseudocode to Python by replacing statements with their Python equivalents.\n",
    "\n",
    "Example:\n",
    "- INPUT mass, volume\n",
    "- COMPUTE density = mass / volume\n",
    "- DISPLAY density"
   ]
  },
  {
   "cell_type": "markdown",
   "id": "0fb91058",
   "metadata": {
    "slideshow": {
     "slide_type": "slide"
    }
   },
   "source": [
    "## Addition Program Pseudocode\n",
    "\n",
    "1. Prompt the user to enter the first integer\n",
    "- Input the first integer\n",
    "\n",
    "2. Prompt the user to enter the second integer\n",
    "- Input the second integer\n",
    "\n",
    "3. Add first integer and second integer, store their sum\n",
    "- Display the numbers and their sum"
   ]
  },
  {
   "cell_type": "markdown",
   "id": "4dad1a0a-bce4-4c0a-a8a1-bc9429dbd6f1",
   "metadata": {
    "slideshow": {
     "slide_type": "slide"
    }
   },
   "source": [
    "# Flowcharts\n",
    "\n",
    "### What is a Flowchart?\n",
    "- A **flowchart** is a diagram that visually represents the steps in a process or algorithm.\n",
    "- Uses simple symbols to show the **flow of control** in a program.\n",
    "\n",
    "---\n",
    "\n",
    "### Common Flowchart Symbols\n",
    "- **Oval (Ellipse):** Start / End\n",
    "- **Rectangle:** Process step (calculation, assignment, etc.)\n",
    "- **Diamond:** Decision (yes/no, true/false)\n",
    "- **Arrow:** Shows the flow direction"
   ]
  },
  {
   "cell_type": "markdown",
   "id": "650f7bba",
   "metadata": {
    "slideshow": {
     "slide_type": "subslide"
    }
   },
   "source": [
    "### Why Use Flowcharts?\n",
    "- Helps in **logic building** before coding.\n",
    "- Makes algorithms easier to **communicate** and **debug**.\n",
    "- Especially useful in engineering workflows where processes have clear sequential or conditional steps."
   ]
  },
  {
   "cell_type": "markdown",
   "id": "7ad80add",
   "metadata": {
    "slideshow": {
     "slide_type": "subslide"
    }
   },
   "source": [
    "### Flowchart Conventions\n",
    "\n",
    "- In a **complete algorithm flowchart**:\n",
    "  - The **first symbol** is a rounded rectangle containing the word **Begin**.\n",
    "  - The **last symbol** is a rounded rectangle containing the word **End**.\n",
    "\n",
    "- In a **partial flowchart** (showing only part of an algorithm):\n",
    "  - We omit the Begin/End rounded rectangles.\n",
    "  - Instead, we use **small circles called connector symbols** to link sections.\n",
    "\n",
    "- The most important symbol is the **decision (diamond)**:\n",
    "  - Indicates that a choice must be made (e.g., in an `if` statement).\n",
    "  - Each decision branch leads to a different flow of execution."
   ]
  },
  {
   "cell_type": "markdown",
   "id": "9dae79cc",
   "metadata": {
    "slideshow": {
     "slide_type": "subslide"
    }
   },
   "source": [
    "### Example: Flowchart for Computing Density\n",
    "**Problem:** Calculate density of a substance given mass and volume.\n",
    "\n",
    "1. **Start**\n",
    "2. Input mass (m)\n",
    "3. Input volume (V)\n",
    "4. Compute density ρ = m / V\n",
    "5. Display density\n",
    "6. **End**"
   ]
  },
  {
   "cell_type": "markdown",
   "id": "e64211bf",
   "metadata": {
    "slideshow": {
     "slide_type": "subslide"
    }
   },
   "source": [
    "**Activity for Students:**  \n",
    "Draw a flowchart for a program that:\n",
    "- Inputs temperature in °C\n",
    "- Decides if water is in solid, liquid, or gas phase\n",
    "- Prints the result\n"
   ]
  },
  {
   "cell_type": "markdown",
   "id": "18a0dc61",
   "metadata": {
    "slideshow": {
     "slide_type": "slide"
    }
   },
   "source": [
    "## 3.4 Control Statements\n",
    "Control statements allow you to **alter the flow** of program execution."
   ]
  },
  {
   "cell_type": "markdown",
   "id": "4b6bc200",
   "metadata": {
    "slideshow": {
     "slide_type": "subslide"
    }
   },
   "source": [
    "### Conditional Statements Overview\n",
    "\n",
    "- The **if statement** performs an action if a condition is **True** or skips the action if the condition is **False**.  \n",
    "\n",
    "- The **if–else statement** performs an action if a condition is **True** or performs a **different action** if the condition is **False**.  \n",
    "\n",
    "- The **if–elif–else statement** performs **one of many different actions**, depending on the truth or falsity of several conditions.  "
   ]
  },
  {
   "cell_type": "markdown",
   "id": "03036ef5",
   "metadata": {
    "slideshow": {
     "slide_type": "slide"
    }
   },
   "source": [
    "## 3.5 if Statement\n",
    "The simplest decision-making statement.\n"
   ]
  },
  {
   "cell_type": "code",
   "execution_count": null,
   "id": "97cf091f",
   "metadata": {
    "slideshow": {
     "slide_type": "fragment"
    }
   },
   "outputs": [],
   "source": [
    "grade = 85\n",
    "if grade >= 60:\n",
    "    print('Passed')"
   ]
  },
  {
   "cell_type": "code",
   "execution_count": null,
   "id": "cbf16c4a",
   "metadata": {
    "slideshow": {
     "slide_type": "subslide"
    }
   },
   "outputs": [],
   "source": [
    "grade = 85\n",
    "if grade >= 60:\n",
    "print('Passed')"
   ]
  },
  {
   "cell_type": "code",
   "execution_count": null,
   "id": "06c0a9ab",
   "metadata": {
    "slideshow": {
     "slide_type": "fragment"
    }
   },
   "outputs": [],
   "source": [
    "grade = 85\n",
    "if grade >= 60:\n",
    "    print('Passed') # indented 4 spaces\n",
    "  print('Good Job') # incorrectly indented only two spaces"
   ]
  },
  {
   "cell_type": "code",
   "execution_count": null,
   "id": "7d7e2d39",
   "metadata": {
    "slideshow": {
     "slide_type": "subslide"
    }
   },
   "outputs": [],
   "source": [
    "temperature = 105\n",
    "if temperature > 100:\n",
    "    print(\"Boiling point reached!\")\n"
   ]
  },
  {
   "cell_type": "markdown",
   "id": "aca56674",
   "metadata": {
    "slideshow": {
     "slide_type": "subslide"
    }
   },
   "source": [
    "### Flowchart for `if` Statement\n",
    "\n",
    "### Flowchart Example\n",
    "![If Statement Flowchart](images/if_flowchart.jpg)\n"
   ]
  },
  {
   "cell_type": "code",
   "execution_count": null,
   "id": "afbf1919",
   "metadata": {
    "slideshow": {
     "slide_type": "subslide"
    }
   },
   "outputs": [],
   "source": [
    "# Bacing decision on nonzero value being True and Zero being False\n",
    "if 1:\n",
    "    print('Nonzerovalues are true, so this will print')\n",
    "if 0:\n",
    "    print('Zero is false, sot this will not print')"
   ]
  },
  {
   "cell_type": "code",
   "execution_count": null,
   "id": "b34c4ec9",
   "metadata": {
    "slideshow": {
     "slide_type": "subslide"
    }
   },
   "outputs": [],
   "source": [
    "# Bacing decision on nonzero value being True and Zero being False\n",
    "if 'a':\n",
    "    print('Strings with characters are true, so this will print')\n",
    "if '':\n",
    "    print('Empty string is false, sot this will not print')"
   ]
  },
  {
   "cell_type": "markdown",
   "id": "ebe1e4b1",
   "metadata": {
    "slideshow": {
     "slide_type": "slide"
    }
   },
   "source": [
    "## 3.6 if…else and if…elif…else Statements\n"
   ]
  },
  {
   "cell_type": "markdown",
   "id": "f0c4fbf0",
   "metadata": {
    "slideshow": {
     "slide_type": "subslide"
    }
   },
   "source": [
    "### Flowchart for `if-else` Statement\n",
    "\n",
    "### Flowchart Example\n",
    "![If Statement Flowchart](images/if_else_flowchart.jpg)\n"
   ]
  },
  {
   "cell_type": "code",
   "execution_count": null,
   "id": "0df8587a",
   "metadata": {
    "slideshow": {
     "slide_type": "fragment"
    }
   },
   "outputs": [],
   "source": [
    "x = 5\n",
    "if x > 0:\n",
    "    print(\"Positive number\")\n",
    "else:\n",
    "    print(\"Non-positive number\")"
   ]
  },
  {
   "cell_type": "markdown",
   "id": "3e94baa8",
   "metadata": {
    "slideshow": {
     "slide_type": "subslide"
    }
   },
   "source": [
    "### Flowchart for `if-elif-else` Statement\n",
    "\n",
    "### Flowchart Example\n",
    "![If Statement Flowchart](images/if_elif_else_flowchart.jpg)\n"
   ]
  },
  {
   "cell_type": "code",
   "execution_count": null,
   "id": "21a768a4",
   "metadata": {
    "slideshow": {
     "slide_type": "subslide"
    }
   },
   "outputs": [],
   "source": [
    "# Multiple conditions\n",
    "score = 78\n",
    "if score >= 90:\n",
    "    grade = \"A\"\n",
    "elif score >= 80:\n",
    "    grade = \"B\"\n",
    "elif score >= 70:\n",
    "    grade = \"C\"\n",
    "else:\n",
    "    grade = \"D\"\n",
    "print(\"Grade:\", grade)"
   ]
  },
  {
   "cell_type": "markdown",
   "id": "dc9f90f9",
   "metadata": {
    "slideshow": {
     "slide_type": "slide"
    }
   },
   "source": [
    "### Repetition Statements\n",
    "\n",
    "Python provides two repetition statements — **while** and **for**:\n",
    "\n",
    "- The **while statement** repeats an action (or a group of actions) as long as a condition remains **True**.  \n",
    "\n",
    "- The **for statement** repeats an action (or a group of actions) for **every item in a sequence of items**.  \n",
    " "
   ]
  },
  {
   "cell_type": "markdown",
   "id": "68146554",
   "metadata": {
    "slideshow": {
     "slide_type": "slide"
    }
   },
   "source": [
    "## 3.7 while Statement\n",
    "Repeat a block of code while a condition is true."
   ]
  },
  {
   "cell_type": "markdown",
   "id": "a45f2b74",
   "metadata": {
    "slideshow": {
     "slide_type": "subslide"
    }
   },
   "source": [
    "### Flowchart for `while` Statement\n",
    "\n",
    "### Flowchart Example\n",
    "![If Statement Flowchart](images/while_flowchart.jpg)\n"
   ]
  },
  {
   "cell_type": "code",
   "execution_count": null,
   "id": "777e55c4",
   "metadata": {
    "slideshow": {
     "slide_type": "subslide"
    }
   },
   "outputs": [],
   "source": [
    "count = 0\n",
    "while count < 5:\n",
    "    print(\"Count:\", count)\n",
    "    count += 1"
   ]
  },
  {
   "cell_type": "markdown",
   "id": "cbd271e8",
   "metadata": {
    "slideshow": {
     "slide_type": "slide"
    }
   },
   "source": [
    "## 3.8 for Statement\n"
   ]
  },
  {
   "cell_type": "markdown",
   "id": "dfd4e722",
   "metadata": {
    "slideshow": {
     "slide_type": "subslide"
    }
   },
   "source": [
    "### Flowchart for `for` Statement\n",
    "\n",
    "### Flowchart Example\n",
    "![If Statement Flowchart](images/for_flowchart.jpg)\n"
   ]
  },
  {
   "cell_type": "code",
   "execution_count": null,
   "id": "182d3e06",
   "metadata": {
    "slideshow": {
     "slide_type": "subslide"
    }
   },
   "outputs": [],
   "source": [
    "# Basic for loop\n",
    "for i in range(5):\n",
    "    print(\"Iteration\", i)"
   ]
  },
  {
   "cell_type": "code",
   "execution_count": null,
   "id": "237be2a8",
   "metadata": {
    "slideshow": {
     "slide_type": "subslide"
    }
   },
   "outputs": [],
   "source": [
    "# Iterating over a list\n",
    "chemicals = [\"H2O\", \"CO2\", \"CH4\"]\n",
    "for chem in chemicals:\n",
    "    print(\"Molecule:\", chem)"
   ]
  },
  {
   "cell_type": "markdown",
   "id": "f8c91061",
   "metadata": {
    "slideshow": {
     "slide_type": "slide"
    }
   },
   "source": [
    "## 3.9 Augmented Assignments\n",
    "Shorthand operators for updating variables."
   ]
  },
  {
   "cell_type": "code",
   "execution_count": null,
   "id": "15f3301c",
   "metadata": {
    "slideshow": {
     "slide_type": "fragment"
    }
   },
   "outputs": [],
   "source": [
    "x = 10\n",
    "x += 5  # same as x = x + 5\n",
    "x *= 2  # same as x = x * 2\n",
    "print(\"Final x =\", x)"
   ]
  },
  {
   "cell_type": "markdown",
   "id": "c9f7ea34",
   "metadata": {
    "slideshow": {
     "slide_type": "slide"
    }
   },
   "source": [
    "## 3.10 Program Development Example\n",
    "### Sequence-Controlled Repetition\n",
    "Requirement: Compute average of 5 temperatures."
   ]
  },
  {
   "cell_type": "code",
   "execution_count": null,
   "id": "77aec195",
   "metadata": {
    "slideshow": {
     "slide_type": "fragment"
    }
   },
   "outputs": [],
   "source": [
    "total = 0\n",
    "for i in range(5):\n",
    "    temp = float(input(f\"Enter temperature {i+1}: \"))\n",
    "    total += temp\n",
    "avg = total / 5\n",
    "print(\"Average temperature:\", avg)"
   ]
  },
  {
   "cell_type": "code",
   "execution_count": null,
   "id": "068e474e",
   "metadata": {
    "slideshow": {
     "slide_type": "subslide"
    }
   },
   "outputs": [],
   "source": [
    "# Sentinel-Controlled Repetition\n",
    "total = 0\n",
    "count = 0\n",
    "while True:\n",
    "    temp = float(input(\"Enter temperature (-1 to quit): \"))\n",
    "    if temp == -1:\n",
    "        break\n",
    "    total += temp\n",
    "    count += 1\n",
    "avg = total / count\n",
    "print(\"Average temperature:\", avg)"
   ]
  },
  {
   "cell_type": "code",
   "execution_count": null,
   "id": "52a1fd1f",
   "metadata": {
    "slideshow": {
     "slide_type": "subslide"
    }
   },
   "outputs": [],
   "source": [
    "# Nested Control Statement\n",
    "for i in range(1, 4):\n",
    "    for j in range(1, 4):\n",
    "        print(f\"i={i}, j={j}\")"
   ]
  },
  {
   "cell_type": "code",
   "execution_count": null,
   "id": "7e91bfe1",
   "metadata": {
    "slideshow": {
     "slide_type": "subslide"
    }
   },
   "outputs": [],
   "source": [
    "# break and continue\n",
    "for i in range(1, 6):\n",
    "    if i == 3:\n",
    "        continue  # skip 3\n",
    "    if i == 5:\n",
    "        break     # stop at 5\n",
    "    print(i)"
   ]
  },
  {
   "cell_type": "code",
   "execution_count": null,
   "id": "17b0240a",
   "metadata": {
    "slideshow": {
     "slide_type": "subslide"
    }
   },
   "outputs": [],
   "source": [
    "# Boolean Operators\n",
    "temp = 90\n",
    "pressure = 1.2\n",
    "if temp > 80 and pressure > 1.0:\n",
    "    print(\"System under stress!\")"
   ]
  },
  {
   "cell_type": "code",
   "execution_count": null,
   "id": "1feee564",
   "metadata": {
    "slideshow": {
     "slide_type": "subslide"
    }
   },
   "outputs": [],
   "source": [
    "# Data Science Example\n",
    "import statistics as stats\n",
    "\n",
    "data = [2, 4, 6, 8, 10]\n",
    "print(\"Mean:\", stats.mean(data))\n",
    "print(\"Median:\", stats.median(data))\n",
    "print(\"Mode:\", stats.mode(data))"
   ]
  },
  {
   "cell_type": "markdown",
   "id": "04a096be",
   "metadata": {
    "slideshow": {
     "slide_type": "slide"
    }
   },
   "source": [
    "<div align=\"center\">\n",
    "\n",
    "## Chemical Engineering Examples\n",
    "\n",
    "</div>"
   ]
  },
  {
   "cell_type": "markdown",
   "id": "d8f47797",
   "metadata": {
    "slideshow": {
     "slide_type": "slide"
    }
   },
   "source": [
    "## Example 1 – While Loop with Boolean\n",
    "**Problem Statement:**  \n",
    "In a batch reactor, a chemical reaction continues until the **conversion reaches at least 90%**.  \n",
    "Simulate the process by increasing conversion by **5% each cycle** and display the conversion after every step.\n"
   ]
  },
  {
   "cell_type": "code",
   "execution_count": null,
   "id": "ba7ed6ab",
   "metadata": {
    "slideshow": {
     "slide_type": "fragment"
    }
   },
   "outputs": [],
   "source": [
    "conversion = 0.0\n",
    "while conversion < 0.90:   # boolean condition\n",
    "    conversion += 0.05\n",
    "    print(\"Conversion:\", round(conversion*100, 1), \"%\")\n",
    "\n",
    "print(\"Reaction complete. Final conversion:\", round(conversion*100, 1), \"%\")\n"
   ]
  },
  {
   "cell_type": "markdown",
   "id": "5c7d315c",
   "metadata": {
    "slideshow": {
     "slide_type": "slide"
    }
   },
   "source": [
    "## Example 2 – For Loop\n",
    "**Problem Statement:**  \n",
    "An engineer measures the **pH of a solution 5 times** in a neutralization experiment.  \n",
    "Write a program that accepts 5 pH readings, stores them, and then prints the **average pH**.\n"
   ]
  },
  {
   "cell_type": "code",
   "execution_count": null,
   "id": "702108bb",
   "metadata": {
    "slideshow": {
     "slide_type": "fragment"
    }
   },
   "outputs": [],
   "source": [
    "total = 0\n",
    "for i in range(5):   # fixed number of iterations\n",
    "    pH = float(input(f\"Enter pH reading {i+1}: \"))\n",
    "    total += pH\n",
    "\n",
    "avg_pH = total / 5\n",
    "print(\"Average pH of solution:\", avg_pH)\n"
   ]
  },
  {
   "cell_type": "markdown",
   "id": "e100ecd7",
   "metadata": {
    "slideshow": {
     "slide_type": "slide"
    }
   },
   "source": [
    "## Example 3 – If–Else Condition\n",
    "**Problem Statement:**  \n",
    "During distillation, the **column pressure** must stay between **1 atm and 2 atm**.  \n",
    "Write a program that takes a pressure value as input and displays:  \n",
    "- `\"Pressure too low\"` if below 1 atm  \n",
    "- `\"Pressure normal\"` if between 1–2 atm  \n",
    "- `\"Pressure too high\"` if above 2 atm\n"
   ]
  },
  {
   "cell_type": "code",
   "execution_count": null,
   "id": "bec8917a",
   "metadata": {
    "slideshow": {
     "slide_type": "fragment"
    }
   },
   "outputs": [],
   "source": [
    "P = float(input(\"Enter column pressure (atm): \"))\n",
    "\n",
    "if P < 1.0:\n",
    "    print(\"Pressure too low!\")\n",
    "elif 1.0 <= P <= 2.0:\n",
    "    print(\"Pressure normal.\")\n",
    "else:\n",
    "    print(\"Pressure too high!\")\n"
   ]
  },
  {
   "cell_type": "markdown",
   "id": "c60d5701",
   "metadata": {
    "slideshow": {
     "slide_type": "slide"
    }
   },
   "source": [
    "# Week 3 Activities\n",
    "\n",
    "**Activity 1:**\n",
    "Write a program that asks the user for the flow rates (in L/min) of 5 streams.\n",
    "- Use a for loop to collect inputs.\n",
    "- Calculate the total and average flow rate.\n",
    "- Print the results.\n",
    "\n",
    "---\n",
    "\n",
    "**Activity 2:**\n",
    "Develop a sentinel-controlled program:\n",
    "- Continuously ask the user to enter reactor conversion (%) values.\n",
    "- Stop if the user enters -1.\n",
    "- At the end, display the highest, lowest, and average conversion."
   ]
  }
 ],
 "metadata": {
  "celltoolbar": "Slideshow",
  "kernelspec": {
   "display_name": "Python 3 (ipykernel)",
   "language": "python",
   "name": "python3"
  },
  "language_info": {
   "codemirror_mode": {
    "name": "ipython",
    "version": 3
   },
   "file_extension": ".py",
   "mimetype": "text/x-python",
   "name": "python",
   "nbconvert_exporter": "python",
   "pygments_lexer": "ipython3",
   "version": "3.13.0"
  }
 },
 "nbformat": 4,
 "nbformat_minor": 5
}
